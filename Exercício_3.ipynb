{
  "nbformat": 4,
  "nbformat_minor": 0,
  "metadata": {
    "colab": {
      "name": "Exercício 3.ipynb",
      "provenance": [],
      "authorship_tag": "ABX9TyOlrSLvoXxjQBPhkuLixGPC",
      "include_colab_link": true
    },
    "kernelspec": {
      "name": "python3",
      "display_name": "Python 3"
    }
  },
  "cells": [
    {
      "cell_type": "markdown",
      "metadata": {
        "id": "view-in-github",
        "colab_type": "text"
      },
      "source": [
        "<a href=\"https://colab.research.google.com/github/VictorMarques94/modelospreditivos/blob/master/Exerc%C3%ADcio_3.ipynb\" target=\"_parent\"><img src=\"https://colab.research.google.com/assets/colab-badge.svg\" alt=\"Open In Colab\"/></a>"
      ]
    },
    {
      "cell_type": "markdown",
      "metadata": {
        "id": "Guvjrewoovjq",
        "colab_type": "text"
      },
      "source": [
        "\n",
        "#**Análise e Engenharia de Dados - Cesar School**\n",
        "\n",
        "##**Disciplina: Mineração de Dados - Modelos Preditivos**\n",
        "\n",
        "###**Professor: Ricardo Prudêncio**\n",
        "###**Aluno: Victor Marques**"
      ]
    },
    {
      "cell_type": "markdown",
      "metadata": {
        "colab_type": "text",
        "id": "1Hlajh_rhyoS"
      },
      "source": [
        "# **Contextualização**\n",
        "\n",
        "A base de dados utilizada neste exercício foi retirada do portal \"kaggle\" e se refere ao não comparecimento em consultas marcadas."
      ]
    },
    {
      "cell_type": "code",
      "metadata": {
        "colab_type": "code",
        "id": "FXFqoef4hyoV",
        "colab": {}
      },
      "source": [
        "# Importando as bibliotecas\n",
        "\n",
        "import numpy as np\n",
        "import pandas as pd\n",
        "import matplotlib.pyplot as plt\n",
        "import sklearn as sk\n",
        "import seaborn as sns\n",
        "%matplotlib inline \n",
        "from sklearn.model_selection import train_test_split"
      ],
      "execution_count": null,
      "outputs": []
    },
    {
      "cell_type": "markdown",
      "metadata": {
        "colab_type": "text",
        "id": "d74AVbL7hyob"
      },
      "source": [
        "# **Análise exploratória dados**"
      ]
    },
    {
      "cell_type": "code",
      "metadata": {
        "colab_type": "code",
        "id": "3nte8cmuhyoc",
        "colab": {}
      },
      "source": [
        "# Base \"KaggleV2-May-2016.csv\".\n",
        "\n",
        "df = pd.read_csv('KaggleV2-May-2016.csv')"
      ],
      "execution_count": null,
      "outputs": []
    },
    {
      "cell_type": "code",
      "metadata": {
        "colab_type": "code",
        "id": "9LCtq-YPhyoi",
        "colab": {
          "base_uri": "https://localhost:8080/",
          "height": 51
        },
        "outputId": "1f53f429-9986-452d-8973-33d7566f3b30"
      },
      "source": [
        "# Levantamento de registros e atributos\n",
        "\n",
        "print(df.shape[0])\n",
        "print(df.shape[1])"
      ],
      "execution_count": null,
      "outputs": [
        {
          "output_type": "stream",
          "text": [
            "110527\n",
            "14\n"
          ],
          "name": "stdout"
        }
      ]
    },
    {
      "cell_type": "code",
      "metadata": {
        "colab_type": "code",
        "id": "KobyT2yFhyon",
        "colab": {
          "base_uri": "https://localhost:8080/",
          "height": 374
        },
        "outputId": "af807d5e-2993-4a95-adf8-099968407dbc"
      },
      "source": [
        "df.info()"
      ],
      "execution_count": null,
      "outputs": [
        {
          "output_type": "stream",
          "text": [
            "<class 'pandas.core.frame.DataFrame'>\n",
            "RangeIndex: 110527 entries, 0 to 110526\n",
            "Data columns (total 14 columns):\n",
            " #   Column          Non-Null Count   Dtype  \n",
            "---  ------          --------------   -----  \n",
            " 0   PatientId       110527 non-null  float64\n",
            " 1   AppointmentID   110527 non-null  int64  \n",
            " 2   Gender          110527 non-null  object \n",
            " 3   ScheduledDay    110527 non-null  object \n",
            " 4   AppointmentDay  110527 non-null  object \n",
            " 5   Age             110527 non-null  int64  \n",
            " 6   Neighbourhood   110527 non-null  object \n",
            " 7   Scholarship     110527 non-null  int64  \n",
            " 8   Hipertension    110527 non-null  int64  \n",
            " 9   Diabetes        110527 non-null  int64  \n",
            " 10  Alcoholism      110527 non-null  int64  \n",
            " 11  Handcap         110527 non-null  int64  \n",
            " 12  SMS_received    110527 non-null  int64  \n",
            " 13  No-show         110527 non-null  object \n",
            "dtypes: float64(1), int64(8), object(5)\n",
            "memory usage: 11.8+ MB\n"
          ],
          "name": "stdout"
        }
      ]
    },
    {
      "cell_type": "code",
      "metadata": {
        "colab_type": "code",
        "id": "Xcx9iDJwhyph",
        "colab": {}
      },
      "source": [
        "# Transformando as colunas \"Gender\" e \"No-show\"em numérico para realizarmos a análise\n",
        "\n",
        "# No-show -  0: FALSO para pessoas que compareceram a consulta e 1:VERDADEIRO para pessoas que não compareceram\n",
        "noshow_map = {\"Yes\" : 1, \"No\" : 0}\n",
        "df['No-show'] = df['No-show'].map(noshow_map)\n",
        "\n",
        "# Gender - 0: MULHERES e 1: HOMENS\n",
        "gender_map = {\"F\" : 0, \"M\" : 1}\n",
        "df['Gender'] = df['Gender'].map(gender_map)"
      ],
      "execution_count": null,
      "outputs": []
    },
    {
      "cell_type": "code",
      "metadata": {
        "colab_type": "code",
        "id": "hAeUv_lNhyot",
        "colab": {
          "base_uri": "https://localhost:8080/",
          "height": 566
        },
        "outputId": "3adc3ad9-d5b4-41fc-e611-402f8fcae30f"
      },
      "source": [
        "#Conferindo\n",
        "df.head(10)"
      ],
      "execution_count": null,
      "outputs": [
        {
          "output_type": "execute_result",
          "data": {
            "text/html": [
              "<div>\n",
              "<style scoped>\n",
              "    .dataframe tbody tr th:only-of-type {\n",
              "        vertical-align: middle;\n",
              "    }\n",
              "\n",
              "    .dataframe tbody tr th {\n",
              "        vertical-align: top;\n",
              "    }\n",
              "\n",
              "    .dataframe thead th {\n",
              "        text-align: right;\n",
              "    }\n",
              "</style>\n",
              "<table border=\"1\" class=\"dataframe\">\n",
              "  <thead>\n",
              "    <tr style=\"text-align: right;\">\n",
              "      <th></th>\n",
              "      <th>PatientId</th>\n",
              "      <th>AppointmentID</th>\n",
              "      <th>Gender</th>\n",
              "      <th>ScheduledDay</th>\n",
              "      <th>AppointmentDay</th>\n",
              "      <th>Age</th>\n",
              "      <th>Neighbourhood</th>\n",
              "      <th>Scholarship</th>\n",
              "      <th>Hipertension</th>\n",
              "      <th>Diabetes</th>\n",
              "      <th>Alcoholism</th>\n",
              "      <th>Handcap</th>\n",
              "      <th>SMS_received</th>\n",
              "      <th>No-show</th>\n",
              "    </tr>\n",
              "  </thead>\n",
              "  <tbody>\n",
              "    <tr>\n",
              "      <th>0</th>\n",
              "      <td>2.987250e+13</td>\n",
              "      <td>5642903</td>\n",
              "      <td>0</td>\n",
              "      <td>2016-04-29T18:38:08Z</td>\n",
              "      <td>2016-04-29T00:00:00Z</td>\n",
              "      <td>62</td>\n",
              "      <td>JARDIM DA PENHA</td>\n",
              "      <td>0</td>\n",
              "      <td>1</td>\n",
              "      <td>0</td>\n",
              "      <td>0</td>\n",
              "      <td>0</td>\n",
              "      <td>0</td>\n",
              "      <td>0</td>\n",
              "    </tr>\n",
              "    <tr>\n",
              "      <th>1</th>\n",
              "      <td>5.589978e+14</td>\n",
              "      <td>5642503</td>\n",
              "      <td>1</td>\n",
              "      <td>2016-04-29T16:08:27Z</td>\n",
              "      <td>2016-04-29T00:00:00Z</td>\n",
              "      <td>56</td>\n",
              "      <td>JARDIM DA PENHA</td>\n",
              "      <td>0</td>\n",
              "      <td>0</td>\n",
              "      <td>0</td>\n",
              "      <td>0</td>\n",
              "      <td>0</td>\n",
              "      <td>0</td>\n",
              "      <td>0</td>\n",
              "    </tr>\n",
              "    <tr>\n",
              "      <th>2</th>\n",
              "      <td>4.262962e+12</td>\n",
              "      <td>5642549</td>\n",
              "      <td>0</td>\n",
              "      <td>2016-04-29T16:19:04Z</td>\n",
              "      <td>2016-04-29T00:00:00Z</td>\n",
              "      <td>62</td>\n",
              "      <td>MATA DA PRAIA</td>\n",
              "      <td>0</td>\n",
              "      <td>0</td>\n",
              "      <td>0</td>\n",
              "      <td>0</td>\n",
              "      <td>0</td>\n",
              "      <td>0</td>\n",
              "      <td>0</td>\n",
              "    </tr>\n",
              "    <tr>\n",
              "      <th>3</th>\n",
              "      <td>8.679512e+11</td>\n",
              "      <td>5642828</td>\n",
              "      <td>0</td>\n",
              "      <td>2016-04-29T17:29:31Z</td>\n",
              "      <td>2016-04-29T00:00:00Z</td>\n",
              "      <td>8</td>\n",
              "      <td>PONTAL DE CAMBURI</td>\n",
              "      <td>0</td>\n",
              "      <td>0</td>\n",
              "      <td>0</td>\n",
              "      <td>0</td>\n",
              "      <td>0</td>\n",
              "      <td>0</td>\n",
              "      <td>0</td>\n",
              "    </tr>\n",
              "    <tr>\n",
              "      <th>4</th>\n",
              "      <td>8.841186e+12</td>\n",
              "      <td>5642494</td>\n",
              "      <td>0</td>\n",
              "      <td>2016-04-29T16:07:23Z</td>\n",
              "      <td>2016-04-29T00:00:00Z</td>\n",
              "      <td>56</td>\n",
              "      <td>JARDIM DA PENHA</td>\n",
              "      <td>0</td>\n",
              "      <td>1</td>\n",
              "      <td>1</td>\n",
              "      <td>0</td>\n",
              "      <td>0</td>\n",
              "      <td>0</td>\n",
              "      <td>0</td>\n",
              "    </tr>\n",
              "    <tr>\n",
              "      <th>5</th>\n",
              "      <td>9.598513e+13</td>\n",
              "      <td>5626772</td>\n",
              "      <td>0</td>\n",
              "      <td>2016-04-27T08:36:51Z</td>\n",
              "      <td>2016-04-29T00:00:00Z</td>\n",
              "      <td>76</td>\n",
              "      <td>REPÚBLICA</td>\n",
              "      <td>0</td>\n",
              "      <td>1</td>\n",
              "      <td>0</td>\n",
              "      <td>0</td>\n",
              "      <td>0</td>\n",
              "      <td>0</td>\n",
              "      <td>0</td>\n",
              "    </tr>\n",
              "    <tr>\n",
              "      <th>6</th>\n",
              "      <td>7.336882e+14</td>\n",
              "      <td>5630279</td>\n",
              "      <td>0</td>\n",
              "      <td>2016-04-27T15:05:12Z</td>\n",
              "      <td>2016-04-29T00:00:00Z</td>\n",
              "      <td>23</td>\n",
              "      <td>GOIABEIRAS</td>\n",
              "      <td>0</td>\n",
              "      <td>0</td>\n",
              "      <td>0</td>\n",
              "      <td>0</td>\n",
              "      <td>0</td>\n",
              "      <td>0</td>\n",
              "      <td>1</td>\n",
              "    </tr>\n",
              "    <tr>\n",
              "      <th>7</th>\n",
              "      <td>3.449833e+12</td>\n",
              "      <td>5630575</td>\n",
              "      <td>0</td>\n",
              "      <td>2016-04-27T15:39:58Z</td>\n",
              "      <td>2016-04-29T00:00:00Z</td>\n",
              "      <td>39</td>\n",
              "      <td>GOIABEIRAS</td>\n",
              "      <td>0</td>\n",
              "      <td>0</td>\n",
              "      <td>0</td>\n",
              "      <td>0</td>\n",
              "      <td>0</td>\n",
              "      <td>0</td>\n",
              "      <td>1</td>\n",
              "    </tr>\n",
              "    <tr>\n",
              "      <th>8</th>\n",
              "      <td>5.639473e+13</td>\n",
              "      <td>5638447</td>\n",
              "      <td>0</td>\n",
              "      <td>2016-04-29T08:02:16Z</td>\n",
              "      <td>2016-04-29T00:00:00Z</td>\n",
              "      <td>21</td>\n",
              "      <td>ANDORINHAS</td>\n",
              "      <td>0</td>\n",
              "      <td>0</td>\n",
              "      <td>0</td>\n",
              "      <td>0</td>\n",
              "      <td>0</td>\n",
              "      <td>0</td>\n",
              "      <td>0</td>\n",
              "    </tr>\n",
              "    <tr>\n",
              "      <th>9</th>\n",
              "      <td>7.812456e+13</td>\n",
              "      <td>5629123</td>\n",
              "      <td>0</td>\n",
              "      <td>2016-04-27T12:48:25Z</td>\n",
              "      <td>2016-04-29T00:00:00Z</td>\n",
              "      <td>19</td>\n",
              "      <td>CONQUISTA</td>\n",
              "      <td>0</td>\n",
              "      <td>0</td>\n",
              "      <td>0</td>\n",
              "      <td>0</td>\n",
              "      <td>0</td>\n",
              "      <td>0</td>\n",
              "      <td>0</td>\n",
              "    </tr>\n",
              "  </tbody>\n",
              "</table>\n",
              "</div>"
            ],
            "text/plain": [
              "      PatientId  AppointmentID  Gender  ... Handcap SMS_received  No-show\n",
              "0  2.987250e+13        5642903       0  ...       0            0        0\n",
              "1  5.589978e+14        5642503       1  ...       0            0        0\n",
              "2  4.262962e+12        5642549       0  ...       0            0        0\n",
              "3  8.679512e+11        5642828       0  ...       0            0        0\n",
              "4  8.841186e+12        5642494       0  ...       0            0        0\n",
              "5  9.598513e+13        5626772       0  ...       0            0        0\n",
              "6  7.336882e+14        5630279       0  ...       0            0        1\n",
              "7  3.449833e+12        5630575       0  ...       0            0        1\n",
              "8  5.639473e+13        5638447       0  ...       0            0        0\n",
              "9  7.812456e+13        5629123       0  ...       0            0        0\n",
              "\n",
              "[10 rows x 14 columns]"
            ]
          },
          "metadata": {
            "tags": []
          },
          "execution_count": 71
        }
      ]
    },
    {
      "cell_type": "code",
      "metadata": {
        "colab_type": "code",
        "id": "OnvP5lBVhyo8",
        "colab": {
          "base_uri": "https://localhost:8080/",
          "height": 317
        },
        "outputId": "2d1c6dca-778b-4b1c-9344-aa616bbe6037"
      },
      "source": [
        "df.describe()"
      ],
      "execution_count": null,
      "outputs": [
        {
          "output_type": "execute_result",
          "data": {
            "text/html": [
              "<div>\n",
              "<style scoped>\n",
              "    .dataframe tbody tr th:only-of-type {\n",
              "        vertical-align: middle;\n",
              "    }\n",
              "\n",
              "    .dataframe tbody tr th {\n",
              "        vertical-align: top;\n",
              "    }\n",
              "\n",
              "    .dataframe thead th {\n",
              "        text-align: right;\n",
              "    }\n",
              "</style>\n",
              "<table border=\"1\" class=\"dataframe\">\n",
              "  <thead>\n",
              "    <tr style=\"text-align: right;\">\n",
              "      <th></th>\n",
              "      <th>PatientId</th>\n",
              "      <th>AppointmentID</th>\n",
              "      <th>Gender</th>\n",
              "      <th>Age</th>\n",
              "      <th>Scholarship</th>\n",
              "      <th>Hipertension</th>\n",
              "      <th>Diabetes</th>\n",
              "      <th>Alcoholism</th>\n",
              "      <th>Handcap</th>\n",
              "      <th>SMS_received</th>\n",
              "      <th>No-show</th>\n",
              "    </tr>\n",
              "  </thead>\n",
              "  <tbody>\n",
              "    <tr>\n",
              "      <th>count</th>\n",
              "      <td>1.105270e+05</td>\n",
              "      <td>1.105270e+05</td>\n",
              "      <td>110527.000000</td>\n",
              "      <td>110527.000000</td>\n",
              "      <td>110527.000000</td>\n",
              "      <td>110527.000000</td>\n",
              "      <td>110527.000000</td>\n",
              "      <td>110527.000000</td>\n",
              "      <td>110527.000000</td>\n",
              "      <td>110527.000000</td>\n",
              "      <td>110527.000000</td>\n",
              "    </tr>\n",
              "    <tr>\n",
              "      <th>mean</th>\n",
              "      <td>1.474963e+14</td>\n",
              "      <td>5.675305e+06</td>\n",
              "      <td>0.350023</td>\n",
              "      <td>37.088874</td>\n",
              "      <td>0.098266</td>\n",
              "      <td>0.197246</td>\n",
              "      <td>0.071865</td>\n",
              "      <td>0.030400</td>\n",
              "      <td>0.022248</td>\n",
              "      <td>0.321026</td>\n",
              "      <td>0.201933</td>\n",
              "    </tr>\n",
              "    <tr>\n",
              "      <th>std</th>\n",
              "      <td>2.560949e+14</td>\n",
              "      <td>7.129575e+04</td>\n",
              "      <td>0.476979</td>\n",
              "      <td>23.110205</td>\n",
              "      <td>0.297675</td>\n",
              "      <td>0.397921</td>\n",
              "      <td>0.258265</td>\n",
              "      <td>0.171686</td>\n",
              "      <td>0.161543</td>\n",
              "      <td>0.466873</td>\n",
              "      <td>0.401444</td>\n",
              "    </tr>\n",
              "    <tr>\n",
              "      <th>min</th>\n",
              "      <td>3.921784e+04</td>\n",
              "      <td>5.030230e+06</td>\n",
              "      <td>0.000000</td>\n",
              "      <td>-1.000000</td>\n",
              "      <td>0.000000</td>\n",
              "      <td>0.000000</td>\n",
              "      <td>0.000000</td>\n",
              "      <td>0.000000</td>\n",
              "      <td>0.000000</td>\n",
              "      <td>0.000000</td>\n",
              "      <td>0.000000</td>\n",
              "    </tr>\n",
              "    <tr>\n",
              "      <th>25%</th>\n",
              "      <td>4.172614e+12</td>\n",
              "      <td>5.640286e+06</td>\n",
              "      <td>0.000000</td>\n",
              "      <td>18.000000</td>\n",
              "      <td>0.000000</td>\n",
              "      <td>0.000000</td>\n",
              "      <td>0.000000</td>\n",
              "      <td>0.000000</td>\n",
              "      <td>0.000000</td>\n",
              "      <td>0.000000</td>\n",
              "      <td>0.000000</td>\n",
              "    </tr>\n",
              "    <tr>\n",
              "      <th>50%</th>\n",
              "      <td>3.173184e+13</td>\n",
              "      <td>5.680573e+06</td>\n",
              "      <td>0.000000</td>\n",
              "      <td>37.000000</td>\n",
              "      <td>0.000000</td>\n",
              "      <td>0.000000</td>\n",
              "      <td>0.000000</td>\n",
              "      <td>0.000000</td>\n",
              "      <td>0.000000</td>\n",
              "      <td>0.000000</td>\n",
              "      <td>0.000000</td>\n",
              "    </tr>\n",
              "    <tr>\n",
              "      <th>75%</th>\n",
              "      <td>9.439172e+13</td>\n",
              "      <td>5.725524e+06</td>\n",
              "      <td>1.000000</td>\n",
              "      <td>55.000000</td>\n",
              "      <td>0.000000</td>\n",
              "      <td>0.000000</td>\n",
              "      <td>0.000000</td>\n",
              "      <td>0.000000</td>\n",
              "      <td>0.000000</td>\n",
              "      <td>1.000000</td>\n",
              "      <td>0.000000</td>\n",
              "    </tr>\n",
              "    <tr>\n",
              "      <th>max</th>\n",
              "      <td>9.999816e+14</td>\n",
              "      <td>5.790484e+06</td>\n",
              "      <td>1.000000</td>\n",
              "      <td>115.000000</td>\n",
              "      <td>1.000000</td>\n",
              "      <td>1.000000</td>\n",
              "      <td>1.000000</td>\n",
              "      <td>1.000000</td>\n",
              "      <td>4.000000</td>\n",
              "      <td>1.000000</td>\n",
              "      <td>1.000000</td>\n",
              "    </tr>\n",
              "  </tbody>\n",
              "</table>\n",
              "</div>"
            ],
            "text/plain": [
              "          PatientId  AppointmentID  ...   SMS_received        No-show\n",
              "count  1.105270e+05   1.105270e+05  ...  110527.000000  110527.000000\n",
              "mean   1.474963e+14   5.675305e+06  ...       0.321026       0.201933\n",
              "std    2.560949e+14   7.129575e+04  ...       0.466873       0.401444\n",
              "min    3.921784e+04   5.030230e+06  ...       0.000000       0.000000\n",
              "25%    4.172614e+12   5.640286e+06  ...       0.000000       0.000000\n",
              "50%    3.173184e+13   5.680573e+06  ...       0.000000       0.000000\n",
              "75%    9.439172e+13   5.725524e+06  ...       1.000000       0.000000\n",
              "max    9.999816e+14   5.790484e+06  ...       1.000000       1.000000\n",
              "\n",
              "[8 rows x 11 columns]"
            ]
          },
          "metadata": {
            "tags": []
          },
          "execution_count": 72
        }
      ]
    },
    {
      "cell_type": "code",
      "metadata": {
        "colab_type": "code",
        "id": "nElEAZdFhypS",
        "colab": {
          "base_uri": "https://localhost:8080/",
          "height": 34
        },
        "outputId": "f9e1c048-5cc6-4651-dc43-5f10068a8352"
      },
      "source": [
        "# Verificação de valores valores nulos\n",
        "\n",
        "df.isnull().values.any()"
      ],
      "execution_count": null,
      "outputs": [
        {
          "output_type": "execute_result",
          "data": {
            "text/plain": [
              "False"
            ]
          },
          "metadata": {
            "tags": []
          },
          "execution_count": 73
        }
      ]
    },
    {
      "cell_type": "code",
      "metadata": {
        "colab_type": "code",
        "id": "o0bTfd0IhypW",
        "colab": {
          "base_uri": "https://localhost:8080/",
          "height": 272
        },
        "outputId": "abf90fc8-bfe1-42d2-a7fb-9065b54ce507"
      },
      "source": [
        "df.isnull().sum()"
      ],
      "execution_count": null,
      "outputs": [
        {
          "output_type": "execute_result",
          "data": {
            "text/plain": [
              "PatientId         0\n",
              "AppointmentID     0\n",
              "Gender            0\n",
              "ScheduledDay      0\n",
              "AppointmentDay    0\n",
              "Age               0\n",
              "Neighbourhood     0\n",
              "Scholarship       0\n",
              "Hipertension      0\n",
              "Diabetes          0\n",
              "Alcoholism        0\n",
              "Handcap           0\n",
              "SMS_received      0\n",
              "No-show           0\n",
              "dtype: int64"
            ]
          },
          "metadata": {
            "tags": []
          },
          "execution_count": 74
        }
      ]
    },
    {
      "cell_type": "markdown",
      "metadata": {
        "colab_type": "text",
        "id": "tDhkDsh3hyqm"
      },
      "source": [
        "# Apresentação Gráficos "
      ]
    },
    {
      "cell_type": "markdown",
      "metadata": {
        "colab_type": "text",
        "id": "6B6c204RhyrH"
      },
      "source": [
        "Apresetação dos histogramas para os atributos da base de dados"
      ]
    },
    {
      "cell_type": "code",
      "metadata": {
        "colab_type": "code",
        "id": "EyNHARi9hyrI",
        "colab": {
          "base_uri": "https://localhost:8080/",
          "height": 494
        },
        "outputId": "f6480343-9c8d-45ea-ed94-bcb4cccbbac2"
      },
      "source": [
        "df_plots.hist(alpha=0.6, column=df_plots.columns, figsize=(20,10));"
      ],
      "execution_count": null,
      "outputs": [
        {
          "output_type": "display_data",
          "data": {
            "image/png": "[encoded data removed]",
            "text/plain": [
              "<Figure size 1440x720 with 12 Axes>"
            ]
          },
          "metadata": {
            "tags": [],
            "needs_background": "light"
          }
        }
      ]
    },
    {
      "cell_type": "markdown",
      "metadata": {
        "colab_type": "text",
        "id": "96-UzcSWhyrZ"
      },
      "source": [
        "**Apresentação da correlação entre os atributos para base de dados.**"
      ]
    },
    {
      "cell_type": "code",
      "metadata": {
        "colab_type": "code",
        "id": "DF4zVN-Lhyra",
        "colab": {
          "base_uri": "https://localhost:8080/",
          "height": 410
        },
        "outputId": "a18279d0-ed6d-46a0-c17d-0acd937cd476"
      },
      "source": [
        "# Verificação de correlação entre os atributos.\n",
        "\n",
        "df_corr = df.copy()\n",
        "df_corr = df_corr.corr(method='spearman')\n",
        "\n",
        "df_corr"
      ],
      "execution_count": null,
      "outputs": [
        {
          "output_type": "execute_result",
          "data": {
            "text/html": [
              "<div>\n",
              "<style scoped>\n",
              "    .dataframe tbody tr th:only-of-type {\n",
              "        vertical-align: middle;\n",
              "    }\n",
              "\n",
              "    .dataframe tbody tr th {\n",
              "        vertical-align: top;\n",
              "    }\n",
              "\n",
              "    .dataframe thead th {\n",
              "        text-align: right;\n",
              "    }\n",
              "</style>\n",
              "<table border=\"1\" class=\"dataframe\">\n",
              "  <thead>\n",
              "    <tr style=\"text-align: right;\">\n",
              "      <th></th>\n",
              "      <th>PatientId</th>\n",
              "      <th>AppointmentID</th>\n",
              "      <th>Gender</th>\n",
              "      <th>Age</th>\n",
              "      <th>Scholarship</th>\n",
              "      <th>Hipertension</th>\n",
              "      <th>Diabetes</th>\n",
              "      <th>Alcoholism</th>\n",
              "      <th>Handcap</th>\n",
              "      <th>SMS_received</th>\n",
              "      <th>No-show</th>\n",
              "    </tr>\n",
              "  </thead>\n",
              "  <tbody>\n",
              "    <tr>\n",
              "      <th>PatientId</th>\n",
              "      <td>1.000000</td>\n",
              "      <td>0.004523</td>\n",
              "      <td>0.010004</td>\n",
              "      <td>-0.001670</td>\n",
              "      <td>-0.000545</td>\n",
              "      <td>0.002369</td>\n",
              "      <td>0.006359</td>\n",
              "      <td>0.007889</td>\n",
              "      <td>-0.007894</td>\n",
              "      <td>-0.008262</td>\n",
              "      <td>-0.000711</td>\n",
              "    </tr>\n",
              "    <tr>\n",
              "      <th>AppointmentID</th>\n",
              "      <td>0.004523</td>\n",
              "      <td>1.000000</td>\n",
              "      <td>0.016891</td>\n",
              "      <td>0.005726</td>\n",
              "      <td>0.012692</td>\n",
              "      <td>0.018927</td>\n",
              "      <td>0.025776</td>\n",
              "      <td>0.030053</td>\n",
              "      <td>0.017544</td>\n",
              "      <td>-0.244925</td>\n",
              "      <td>-0.171739</td>\n",
              "    </tr>\n",
              "    <tr>\n",
              "      <th>Gender</th>\n",
              "      <td>0.010004</td>\n",
              "      <td>0.016891</td>\n",
              "      <td>1.000000</td>\n",
              "      <td>-0.107099</td>\n",
              "      <td>-0.114293</td>\n",
              "      <td>-0.055718</td>\n",
              "      <td>-0.032554</td>\n",
              "      <td>0.106167</td>\n",
              "      <td>0.022437</td>\n",
              "      <td>-0.046298</td>\n",
              "      <td>-0.004119</td>\n",
              "    </tr>\n",
              "    <tr>\n",
              "      <th>Age</th>\n",
              "      <td>-0.001670</td>\n",
              "      <td>0.005726</td>\n",
              "      <td>-0.107099</td>\n",
              "      <td>1.000000</td>\n",
              "      <td>-0.090099</td>\n",
              "      <td>0.503204</td>\n",
              "      <td>0.293320</td>\n",
              "      <td>0.102266</td>\n",
              "      <td>0.078889</td>\n",
              "      <td>0.015389</td>\n",
              "      <td>-0.061228</td>\n",
              "    </tr>\n",
              "    <tr>\n",
              "      <th>Scholarship</th>\n",
              "      <td>-0.000545</td>\n",
              "      <td>0.012692</td>\n",
              "      <td>-0.114293</td>\n",
              "      <td>-0.090099</td>\n",
              "      <td>1.000000</td>\n",
              "      <td>-0.019729</td>\n",
              "      <td>-0.024894</td>\n",
              "      <td>0.035022</td>\n",
              "      <td>-0.009094</td>\n",
              "      <td>0.001194</td>\n",
              "      <td>0.029135</td>\n",
              "    </tr>\n",
              "    <tr>\n",
              "      <th>Hipertension</th>\n",
              "      <td>0.002369</td>\n",
              "      <td>0.018927</td>\n",
              "      <td>-0.055718</td>\n",
              "      <td>0.503204</td>\n",
              "      <td>-0.019729</td>\n",
              "      <td>1.000000</td>\n",
              "      <td>0.433086</td>\n",
              "      <td>0.087971</td>\n",
              "      <td>0.084845</td>\n",
              "      <td>-0.006267</td>\n",
              "      <td>-0.035701</td>\n",
              "    </tr>\n",
              "    <tr>\n",
              "      <th>Diabetes</th>\n",
              "      <td>0.006359</td>\n",
              "      <td>0.025776</td>\n",
              "      <td>-0.032554</td>\n",
              "      <td>0.293320</td>\n",
              "      <td>-0.024894</td>\n",
              "      <td>0.433086</td>\n",
              "      <td>1.000000</td>\n",
              "      <td>0.018474</td>\n",
              "      <td>0.059180</td>\n",
              "      <td>-0.014550</td>\n",
              "      <td>-0.015180</td>\n",
              "    </tr>\n",
              "    <tr>\n",
              "      <th>Alcoholism</th>\n",
              "      <td>0.007889</td>\n",
              "      <td>0.030053</td>\n",
              "      <td>0.106167</td>\n",
              "      <td>0.102266</td>\n",
              "      <td>0.035022</td>\n",
              "      <td>0.087971</td>\n",
              "      <td>0.018474</td>\n",
              "      <td>1.000000</td>\n",
              "      <td>0.003702</td>\n",
              "      <td>-0.026147</td>\n",
              "      <td>-0.000196</td>\n",
              "    </tr>\n",
              "    <tr>\n",
              "      <th>Handcap</th>\n",
              "      <td>-0.007894</td>\n",
              "      <td>0.017544</td>\n",
              "      <td>0.022437</td>\n",
              "      <td>0.078889</td>\n",
              "      <td>-0.009094</td>\n",
              "      <td>0.084845</td>\n",
              "      <td>0.059180</td>\n",
              "      <td>0.003702</td>\n",
              "      <td>1.000000</td>\n",
              "      <td>-0.025221</td>\n",
              "      <td>-0.007265</td>\n",
              "    </tr>\n",
              "    <tr>\n",
              "      <th>SMS_received</th>\n",
              "      <td>-0.008262</td>\n",
              "      <td>-0.244925</td>\n",
              "      <td>-0.046298</td>\n",
              "      <td>0.015389</td>\n",
              "      <td>0.001194</td>\n",
              "      <td>-0.006267</td>\n",
              "      <td>-0.014550</td>\n",
              "      <td>-0.026147</td>\n",
              "      <td>-0.025221</td>\n",
              "      <td>1.000000</td>\n",
              "      <td>0.126431</td>\n",
              "    </tr>\n",
              "    <tr>\n",
              "      <th>No-show</th>\n",
              "      <td>-0.000711</td>\n",
              "      <td>-0.171739</td>\n",
              "      <td>-0.004119</td>\n",
              "      <td>-0.061228</td>\n",
              "      <td>0.029135</td>\n",
              "      <td>-0.035701</td>\n",
              "      <td>-0.015180</td>\n",
              "      <td>-0.000196</td>\n",
              "      <td>-0.007265</td>\n",
              "      <td>0.126431</td>\n",
              "      <td>1.000000</td>\n",
              "    </tr>\n",
              "  </tbody>\n",
              "</table>\n",
              "</div>"
            ],
            "text/plain": [
              "               PatientId  AppointmentID  ...  SMS_received   No-show\n",
              "PatientId       1.000000       0.004523  ...     -0.008262 -0.000711\n",
              "AppointmentID   0.004523       1.000000  ...     -0.244925 -0.171739\n",
              "Gender          0.010004       0.016891  ...     -0.046298 -0.004119\n",
              "Age            -0.001670       0.005726  ...      0.015389 -0.061228\n",
              "Scholarship    -0.000545       0.012692  ...      0.001194  0.029135\n",
              "Hipertension    0.002369       0.018927  ...     -0.006267 -0.035701\n",
              "Diabetes        0.006359       0.025776  ...     -0.014550 -0.015180\n",
              "Alcoholism      0.007889       0.030053  ...     -0.026147 -0.000196\n",
              "Handcap        -0.007894       0.017544  ...     -0.025221 -0.007265\n",
              "SMS_received   -0.008262      -0.244925  ...      1.000000  0.126431\n",
              "No-show        -0.000711      -0.171739  ...      0.126431  1.000000\n",
              "\n",
              "[11 rows x 11 columns]"
            ]
          },
          "metadata": {
            "tags": []
          },
          "execution_count": 76
        }
      ]
    },
    {
      "cell_type": "markdown",
      "metadata": {
        "colab_type": "text",
        "id": "RT4ZP2Prhyrg"
      },
      "source": [
        "\n",
        "\n",
        "**Gráfico de correlação**"
      ]
    },
    {
      "cell_type": "code",
      "metadata": {
        "colab_type": "code",
        "id": "JfxW9j7bhyri",
        "colab": {
          "base_uri": "https://localhost:8080/",
          "height": 443
        },
        "outputId": "d136a02d-5555-4aec-de15-23e092bc06ae"
      },
      "source": [
        "plt.figure(figsize = (12,6))\n",
        "sns.heatmap(df_corr.corr(), annot=True, cmap='viridis');"
      ],
      "execution_count": null,
      "outputs": [
        {
          "output_type": "display_data",
          "data": {
            "image/png": "[encoded data removed]",
            "text/plain": [
              "<Figure size 864x432 with 2 Axes>"
            ]
          },
          "metadata": {
            "tags": [],
            "needs_background": "light"
          }
        }
      ]
    },
    {
      "cell_type": "markdown",
      "metadata": {
        "colab_type": "text",
        "id": "ym58xlfKhyrr"
      },
      "source": [
        "**Exclusão de atributos não interessantes para o nosso modelo**"
      ]
    },
    {
      "cell_type": "code",
      "metadata": {
        "colab_type": "code",
        "id": "oIiL2J37hyrs",
        "colab": {}
      },
      "source": [
        "dados = df.copy()\n",
        "del dados['PatientId']\n",
        "del dados['AppointmentID']\n",
        "del dados['ScheduledDay']\n",
        "del dados['AppointmentDay']\n",
        "del dados['Neighbourhood']\n",
        "del dados['No-show']"
      ],
      "execution_count": null,
      "outputs": []
    },
    {
      "cell_type": "markdown",
      "metadata": {
        "colab_type": "text",
        "id": "ewJd4A9-hyry"
      },
      "source": [
        "**Definindo os rótulos**"
      ]
    },
    {
      "cell_type": "code",
      "metadata": {
        "colab_type": "code",
        "id": "oeFuBvoQhyrz",
        "colab": {
          "base_uri": "https://localhost:8080/",
          "height": 221
        },
        "outputId": "311c0028-710d-412e-9890-924544bb6387"
      },
      "source": [
        "rotulos = df['No-show'].copy()\n",
        "rotulos"
      ],
      "execution_count": null,
      "outputs": [
        {
          "output_type": "execute_result",
          "data": {
            "text/plain": [
              "0         0\n",
              "1         0\n",
              "2         0\n",
              "3         0\n",
              "4         0\n",
              "         ..\n",
              "110522    0\n",
              "110523    0\n",
              "110524    0\n",
              "110525    0\n",
              "110526    0\n",
              "Name: No-show, Length: 110527, dtype: int64"
            ]
          },
          "metadata": {
            "tags": []
          },
          "execution_count": 79
        }
      ]
    },
    {
      "cell_type": "code",
      "metadata": {
        "colab_type": "code",
        "id": "ZL8abI_Yhyr5",
        "colab": {
          "base_uri": "https://localhost:8080/",
          "height": 34
        },
        "outputId": "7905d258-7b8a-4186-803e-0eef235fa0a0"
      },
      "source": [
        "rotulos.unique()"
      ],
      "execution_count": null,
      "outputs": [
        {
          "output_type": "execute_result",
          "data": {
            "text/plain": [
              "array([0, 1])"
            ]
          },
          "metadata": {
            "tags": []
          },
          "execution_count": 80
        }
      ]
    },
    {
      "cell_type": "markdown",
      "metadata": {
        "colab_type": "text",
        "id": "SBucxLAOhyr9"
      },
      "source": [
        "# **Criando a base de treino e teste.**"
      ]
    },
    {
      "cell_type": "markdown",
      "metadata": {
        "colab_type": "text",
        "id": "VThc-XrchysF"
      },
      "source": [
        "**Seleção dos atributos**"
      ]
    },
    {
      "cell_type": "code",
      "metadata": {
        "colab_type": "code",
        "id": "h-qmKObJhysG",
        "colab": {
          "base_uri": "https://localhost:8080/",
          "height": 136
        },
        "outputId": "f9c4e27e-415a-4ae8-e820-18322ca9a926"
      },
      "source": [
        "X = dados.values\n",
        "X"
      ],
      "execution_count": null,
      "outputs": [
        {
          "output_type": "execute_result",
          "data": {
            "text/plain": [
              "array([[ 0, 62,  0, ...,  0,  0,  0],\n",
              "       [ 1, 56,  0, ...,  0,  0,  0],\n",
              "       [ 0, 62,  0, ...,  0,  0,  0],\n",
              "       ...,\n",
              "       [ 0, 21,  0, ...,  0,  0,  1],\n",
              "       [ 0, 38,  0, ...,  0,  0,  1],\n",
              "       [ 0, 54,  0, ...,  0,  0,  1]])"
            ]
          },
          "metadata": {
            "tags": []
          },
          "execution_count": 81
        }
      ]
    },
    {
      "cell_type": "code",
      "metadata": {
        "colab_type": "code",
        "id": "kpwjKQVUhysM",
        "colab": {
          "base_uri": "https://localhost:8080/",
          "height": 34
        },
        "outputId": "ce478c3b-98c9-4f33-ca23-0e76abd135c0"
      },
      "source": [
        "Y = rotulos.values\n",
        "Y"
      ],
      "execution_count": null,
      "outputs": [
        {
          "output_type": "execute_result",
          "data": {
            "text/plain": [
              "array([0, 0, 0, ..., 0, 0, 0])"
            ]
          },
          "metadata": {
            "tags": []
          },
          "execution_count": 82
        }
      ]
    },
    {
      "cell_type": "markdown",
      "metadata": {
        "colab_type": "text",
        "id": "mu_KbuUbhysU"
      },
      "source": [
        "**Percentual de teste.**"
      ]
    },
    {
      "cell_type": "code",
      "metadata": {
        "colab_type": "code",
        "id": "9UEImfjfhysU",
        "colab": {}
      },
      "source": [
        "# 30% dos dados no teste do modelo.\n",
        "split_test_size = 0.30"
      ],
      "execution_count": null,
      "outputs": []
    },
    {
      "cell_type": "markdown",
      "metadata": {
        "colab_type": "text",
        "id": "0jWA0nfKhysc"
      },
      "source": [
        "**Dados de treino.**"
      ]
    },
    {
      "cell_type": "code",
      "metadata": {
        "colab_type": "code",
        "id": "An6CJ1Knhysd",
        "colab": {}
      },
      "source": [
        "X_treino, X_teste, Y_treino, Y_teste = train_test_split(X, Y, test_size = split_test_size, stratify=rotulos, random_state = 42)"
      ],
      "execution_count": null,
      "outputs": []
    },
    {
      "cell_type": "code",
      "metadata": {
        "colab_type": "code",
        "id": "7P-TlFl3hysh",
        "colab": {
          "base_uri": "https://localhost:8080/",
          "height": 51
        },
        "outputId": "d49553f9-258a-4f8b-dc34-2453a5ea0fe8"
      },
      "source": [
        "# Percentual de treino e teste respectivamente\n",
        "print(format((len(X_treino)/len(df.index)) * 100))\n",
        "print(format((len(X_teste)/len(df.index)) * 100))"
      ],
      "execution_count": null,
      "outputs": [
        {
          "output_type": "stream",
          "text": [
            "69.99918571932649\n",
            "30.0008142806735\n"
          ],
          "name": "stdout"
        }
      ]
    },
    {
      "cell_type": "markdown",
      "metadata": {
        "colab_type": "text",
        "id": "owqO0LSEhysm"
      },
      "source": [
        "# **Construção do modelo** "
      ]
    },
    {
      "cell_type": "markdown",
      "metadata": {
        "colab_type": "text",
        "id": "TIYXRxyzhysn"
      },
      "source": [
        "**Criação do modelo com classificador GAUSSIAN NAIVE BAYES**"
      ]
    },
    {
      "cell_type": "code",
      "metadata": {
        "colab_type": "code",
        "id": "R8x2sau2hysn",
        "colab": {}
      },
      "source": [
        "from sklearn.naive_bayes import GaussianNB"
      ],
      "execution_count": null,
      "outputs": []
    },
    {
      "cell_type": "code",
      "metadata": {
        "colab_type": "code",
        "id": "aX1NClidhysu",
        "colab": {}
      },
      "source": [
        "modelo_NB = GaussianNB()"
      ],
      "execution_count": null,
      "outputs": []
    },
    {
      "cell_type": "code",
      "metadata": {
        "colab_type": "code",
        "id": "VZxQeI6ghys1",
        "colab": {
          "base_uri": "https://localhost:8080/",
          "height": 34
        },
        "outputId": "3ecc361a-3e2d-498b-9246-b8c53a883ba8"
      },
      "source": [
        "modelo_NB.fit(X_treino, Y_treino.ravel())"
      ],
      "execution_count": null,
      "outputs": [
        {
          "output_type": "execute_result",
          "data": {
            "text/plain": [
              "GaussianNB(priors=None, var_smoothing=1e-09)"
            ]
          },
          "metadata": {
            "tags": []
          },
          "execution_count": 90
        }
      ]
    },
    {
      "cell_type": "code",
      "metadata": {
        "colab_type": "code",
        "id": "g5-0lkR7hytA",
        "colab": {
          "base_uri": "https://localhost:8080/",
          "height": 34
        },
        "outputId": "26ce21bf-dd14-4871-c375-cd1fabce640e"
      },
      "source": [
        "from sklearn import metrics\n",
        "#Acurácia para modelo treino\n",
        "\n",
        "nb_pred_treino = modelo_NB.predict(X_treino)\n",
        "print(format(metrics.accuracy_score(Y_treino, nb_pred_treino)))"
      ],
      "execution_count": null,
      "outputs": [
        {
          "output_type": "stream",
          "text": [
            "0.789822665701582\n"
          ],
          "name": "stdout"
        }
      ]
    },
    {
      "cell_type": "code",
      "metadata": {
        "colab_type": "code",
        "id": "NO6jeTgLhytE",
        "colab": {
          "base_uri": "https://localhost:8080/",
          "height": 34
        },
        "outputId": "ec6effe5-0bf5-468b-e813-a3a8d05857cc"
      },
      "source": [
        "nb_pred_teste = modelo_NB.predict(X_teste)\n",
        "#Acurácia para modelo de teste\n",
        "nb_acuracia_teste = metrics.accuracy_score(Y_teste, nb_pred_teste)\n",
        "print(format(nb_acuracia_teste))"
      ],
      "execution_count": null,
      "outputs": [
        {
          "output_type": "stream",
          "text": [
            "0.7909164932597484\n"
          ],
          "name": "stdout"
        }
      ]
    },
    {
      "cell_type": "markdown",
      "metadata": {
        "colab_type": "text",
        "id": "3P6UnSp2hytJ"
      },
      "source": [
        "**Criando a matriz de confusão para o GAUSSIAN NAIVE BAYES**"
      ]
    },
    {
      "cell_type": "code",
      "metadata": {
        "colab_type": "code",
        "id": "aXAXs_ichytK",
        "colab": {
          "base_uri": "https://localhost:8080/",
          "height": 170
        },
        "outputId": "8c382f1e-1652-44c7-ae8c-765b9374a28f"
      },
      "source": [
        "print(metrics.classification_report(Y_teste, nb_pred_teste, labels = [0, 1]))"
      ],
      "execution_count": null,
      "outputs": [
        {
          "output_type": "stream",
          "text": [
            "              precision    recall  f1-score   support\n",
            "\n",
            "           0       0.80      0.98      0.88     26463\n",
            "           1       0.37      0.05      0.09      6696\n",
            "\n",
            "    accuracy                           0.79     33159\n",
            "   macro avg       0.59      0.51      0.49     33159\n",
            "weighted avg       0.72      0.79      0.72     33159\n",
            "\n"
          ],
          "name": "stdout"
        }
      ]
    },
    {
      "cell_type": "markdown",
      "metadata": {
        "colab_type": "text",
        "id": "HcFYpLExhytN"
      },
      "source": [
        "**Criado modelo com classificador RANDOM FOREST**"
      ]
    },
    {
      "cell_type": "code",
      "metadata": {
        "colab_type": "code",
        "id": "bsRghtMQhytO",
        "colab": {}
      },
      "source": [
        "from sklearn.ensemble import RandomForestClassifier"
      ],
      "execution_count": null,
      "outputs": []
    },
    {
      "cell_type": "code",
      "metadata": {
        "colab_type": "code",
        "id": "FBuXJUOEhytW",
        "colab": {
          "base_uri": "https://localhost:8080/",
          "height": 153
        },
        "outputId": "4b26fc96-1de6-4de9-b45d-9dd4f2f120fd"
      },
      "source": [
        "modelo_rf = RandomForestClassifier(random_state = 42)\n",
        "modelo_rf.fit(X_treino, Y_treino.ravel())"
      ],
      "execution_count": null,
      "outputs": [
        {
          "output_type": "execute_result",
          "data": {
            "text/plain": [
              "RandomForestClassifier(bootstrap=True, ccp_alpha=0.0, class_weight=None,\n",
              "                       criterion='gini', max_depth=None, max_features='auto',\n",
              "                       max_leaf_nodes=None, max_samples=None,\n",
              "                       min_impurity_decrease=0.0, min_impurity_split=None,\n",
              "                       min_samples_leaf=1, min_samples_split=2,\n",
              "                       min_weight_fraction_leaf=0.0, n_estimators=100,\n",
              "                       n_jobs=None, oob_score=False, random_state=42, verbose=0,\n",
              "                       warm_start=False)"
            ]
          },
          "metadata": {
            "tags": []
          },
          "execution_count": 103
        }
      ]
    },
    {
      "cell_type": "code",
      "metadata": {
        "colab_type": "code",
        "id": "4nfUGZgThytZ",
        "colab": {
          "base_uri": "https://localhost:8080/",
          "height": 34
        },
        "outputId": "04e15c10-5a9b-42c7-8799-efa716024c87"
      },
      "source": [
        "#Acurácia treino\n",
        "rf_pred_treino = modelo_rf.predict(X_treino)\n",
        "print(format(metrics.accuracy_score(Y_treino, rf_pred_treino)))"
      ],
      "execution_count": null,
      "outputs": [
        {
          "output_type": "stream",
          "text": [
            "0.8029288594767863\n"
          ],
          "name": "stdout"
        }
      ]
    },
    {
      "cell_type": "code",
      "metadata": {
        "colab_type": "code",
        "id": "ZWBebwj9hyte",
        "colab": {
          "base_uri": "https://localhost:8080/",
          "height": 34
        },
        "outputId": "52884c5e-25a5-4f6c-8f02-d29c51f792c9"
      },
      "source": [
        "# Acurácia teste\n",
        "rf_pred_teste = modelo_rf.predict(X_teste)\n",
        "\n",
        "rf_acuracia_teste = metrics.accuracy_score(Y_teste, rf_pred_teste)\n",
        "print(format(rf_acuracia_teste))"
      ],
      "execution_count": null,
      "outputs": [
        {
          "output_type": "stream",
          "text": [
            "0.7948973129467113\n"
          ],
          "name": "stdout"
        }
      ]
    },
    {
      "cell_type": "markdown",
      "metadata": {
        "colab_type": "text",
        "id": "qKuqvALVhyti"
      },
      "source": [
        "**Criando a Matriz de confusão para o classificador RANDOM FOREST**"
      ]
    },
    {
      "cell_type": "code",
      "metadata": {
        "colab_type": "code",
        "id": "BwexNXRvhytj",
        "colab": {
          "base_uri": "https://localhost:8080/",
          "height": 170
        },
        "outputId": "60203f6a-7a23-47d3-aba5-bddcd144f35d"
      },
      "source": [
        "# Criando a matriz de confusão do RANDOM FOREST\n",
        "print(metrics.classification_report(Y_teste, rf_pred_teste, labels = [0, 1]))"
      ],
      "execution_count": null,
      "outputs": [
        {
          "output_type": "stream",
          "text": [
            "              precision    recall  f1-score   support\n",
            "\n",
            "           0       0.80      0.99      0.89     26463\n",
            "           1       0.35      0.02      0.04      6696\n",
            "\n",
            "    accuracy                           0.79     33159\n",
            "   macro avg       0.58      0.51      0.46     33159\n",
            "weighted avg       0.71      0.79      0.71     33159\n",
            "\n"
          ],
          "name": "stdout"
        }
      ]
    },
    {
      "cell_type": "markdown",
      "metadata": {
        "colab_type": "text",
        "id": "t5vyAZEYhytn"
      },
      "source": [
        "\n",
        "\n",
        "---\n",
        "\n"
      ]
    },
    {
      "cell_type": "markdown",
      "metadata": {
        "colab_type": "text",
        "id": "zT4vQmOWhytn"
      },
      "source": [
        "**Criando modelo com classificador REGRESSÃO LOGÍSTICA**"
      ]
    },
    {
      "cell_type": "code",
      "metadata": {
        "colab_type": "code",
        "id": "sYQa-CI3hytp",
        "colab": {}
      },
      "source": [
        "from sklearn.linear_model import LogisticRegression"
      ],
      "execution_count": null,
      "outputs": []
    },
    {
      "cell_type": "code",
      "metadata": {
        "colab_type": "code",
        "id": "fHVVIK_Rhytw",
        "colab": {
          "base_uri": "https://localhost:8080/",
          "height": 102
        },
        "outputId": "b5d122c6-090e-48aa-aefb-f0c9377a4e7d"
      },
      "source": [
        "modelo_lr = LogisticRegression(C = 0.7, random_state = 42, max_iter = 1000)\n",
        "modelo_lr.fit(X_treino, Y_treino.ravel())"
      ],
      "execution_count": null,
      "outputs": [
        {
          "output_type": "execute_result",
          "data": {
            "text/plain": [
              "LogisticRegression(C=0.7, class_weight=None, dual=False, fit_intercept=True,\n",
              "                   intercept_scaling=1, l1_ratio=None, max_iter=1000,\n",
              "                   multi_class='auto', n_jobs=None, penalty='l2',\n",
              "                   random_state=42, solver='lbfgs', tol=0.0001, verbose=0,\n",
              "                   warm_start=False)"
            ]
          },
          "metadata": {
            "tags": []
          },
          "execution_count": 108
        }
      ]
    },
    {
      "cell_type": "code",
      "metadata": {
        "colab_type": "code",
        "id": "KwyzltmRhytz",
        "colab": {
          "base_uri": "https://localhost:8080/",
          "height": 34
        },
        "outputId": "201aa55d-7ab8-4fc2-80dc-07edd2eef7ca"
      },
      "source": [
        "# Acurácia Treino\n",
        "lr_pred_treino = modelo_lr.predict(X_treino)\n",
        "print(format(metrics.accuracy_score(Y_treino, lr_pred_treino)))"
      ],
      "execution_count": null,
      "outputs": [
        {
          "output_type": "stream",
          "text": [
            "0.798068969082825\n"
          ],
          "name": "stdout"
        }
      ]
    },
    {
      "cell_type": "code",
      "metadata": {
        "colab_type": "code",
        "id": "OOF6fXoZhyt4",
        "colab": {
          "base_uri": "https://localhost:8080/",
          "height": 34
        },
        "outputId": "3db36b56-c9b5-43b5-8074-85d249c941b8"
      },
      "source": [
        "# Acurácia Teste.\n",
        "lr_pred_teste = modelo_lr.predict(X_teste)\n",
        "\n",
        "lr_acuracia_teste = metrics.accuracy_score(Y_teste, lr_pred_teste)\n",
        "print(format(lr_acuracia_teste))"
      ],
      "execution_count": null,
      "outputs": [
        {
          "output_type": "stream",
          "text": [
            "0.7980638740613408\n"
          ],
          "name": "stdout"
        }
      ]
    },
    {
      "cell_type": "markdown",
      "metadata": {
        "colab_type": "text",
        "id": "M8cw968Whyt7"
      },
      "source": [
        "**Criando a Matriz de confusão para o classificador REGRESSÃO LOGÍSTICA**"
      ]
    },
    {
      "cell_type": "code",
      "metadata": {
        "colab_type": "code",
        "id": "k57MVdkuhyt8",
        "colab": {
          "base_uri": "https://localhost:8080/",
          "height": 224
        },
        "outputId": "7d4d78ff-5bc1-4ed5-e327-911d77568902"
      },
      "source": [
        "# Criando a matriz de confusão para REGRESSÃO LOGÍSTICA\n",
        "print(metrics.classification_report(Y_teste, lr_pred_teste, labels = [0, 1]))"
      ],
      "execution_count": null,
      "outputs": [
        {
          "output_type": "stream",
          "text": [
            "              precision    recall  f1-score   support\n",
            "\n",
            "           0       0.80      1.00      0.89     26463\n",
            "           1       0.00      0.00      0.00      6696\n",
            "\n",
            "    accuracy                           0.80     33159\n",
            "   macro avg       0.40      0.50      0.44     33159\n",
            "weighted avg       0.64      0.80      0.71     33159\n",
            "\n"
          ],
          "name": "stdout"
        },
        {
          "output_type": "stream",
          "text": [
            "/usr/local/lib/python3.6/dist-packages/sklearn/metrics/_classification.py:1272: UndefinedMetricWarning: Precision and F-score are ill-defined and being set to 0.0 in labels with no predicted samples. Use `zero_division` parameter to control this behavior.\n",
            "  _warn_prf(average, modifier, msg_start, len(result))\n"
          ],
          "name": "stderr"
        }
      ]
    },
    {
      "cell_type": "markdown",
      "metadata": {
        "colab_type": "text",
        "id": "4lz5qt9QhyuC"
      },
      "source": [
        "# **Avaliação do classificadores utilizados**"
      ]
    },
    {
      "cell_type": "code",
      "metadata": {
        "colab_type": "code",
        "id": "9T1NfPXUhyuC",
        "colab": {
          "base_uri": "https://localhost:8080/",
          "height": 173
        },
        "outputId": "e1372cde-392a-439d-b0d8-16b4aab0e59a"
      },
      "source": [
        "from sklearn.model_selection import cross_validate\n",
        "\n",
        "scoring_list = ['accuracy', 'precision_macro', 'recall_macro', 'f1_macro']\n",
        "\n",
        "scores_nb = cross_validate(modelo_NB, dados, rotulos, cv=4, scoring=scoring_list)\n",
        "scores_rf = cross_validate(modelo_rf, dados, rotulos, cv=4, scoring=scoring_list)\n",
        "scores_lr = cross_validate(modelo_lr, dados, rotulos, cv=4, scoring=scoring_list)\n",
        "\n",
        "avg_scores_nb = []\n",
        "avg_scores_rf = []\n",
        "avg_scores_lr = []\n",
        "\n",
        "for score in scoring_list:\n",
        "    avg_scores_nb.append(scores_nb['test_'+score].mean());\n",
        "    avg_scores_rf.append(scores_rf['test_'+score].mean());\n",
        "    avg_scores_lr.append(scores_lr['test_'+score].mean());\n"
      ],
      "execution_count": null,
      "outputs": [
        {
          "output_type": "stream",
          "text": [
            "/usr/local/lib/python3.6/dist-packages/sklearn/metrics/_classification.py:1272: UndefinedMetricWarning: Precision is ill-defined and being set to 0.0 in labels with no predicted samples. Use `zero_division` parameter to control this behavior.\n",
            "  _warn_prf(average, modifier, msg_start, len(result))\n",
            "/usr/local/lib/python3.6/dist-packages/sklearn/metrics/_classification.py:1272: UndefinedMetricWarning: Precision is ill-defined and being set to 0.0 in labels with no predicted samples. Use `zero_division` parameter to control this behavior.\n",
            "  _warn_prf(average, modifier, msg_start, len(result))\n",
            "/usr/local/lib/python3.6/dist-packages/sklearn/metrics/_classification.py:1272: UndefinedMetricWarning: Precision is ill-defined and being set to 0.0 in labels with no predicted samples. Use `zero_division` parameter to control this behavior.\n",
            "  _warn_prf(average, modifier, msg_start, len(result))\n",
            "/usr/local/lib/python3.6/dist-packages/sklearn/metrics/_classification.py:1272: UndefinedMetricWarning: Precision is ill-defined and being set to 0.0 in labels with no predicted samples. Use `zero_division` parameter to control this behavior.\n",
            "  _warn_prf(average, modifier, msg_start, len(result))\n"
          ],
          "name": "stderr"
        }
      ]
    },
    {
      "cell_type": "markdown",
      "metadata": {
        "colab_type": "text",
        "id": "wqW75LOwhyuI"
      },
      "source": [
        "# **REPRESENTAÇÃO GRÁFICA DAS MÉTRICAS**"
      ]
    },
    {
      "cell_type": "code",
      "metadata": {
        "colab_type": "code",
        "id": "II-WaZzQhyuJ",
        "colab": {
          "base_uri": "https://localhost:8080/",
          "height": 375
        },
        "outputId": "a2514293-3d07-498c-9b28-22afb45a9d36"
      },
      "source": [
        "df_plots = pd.DataFrame({'Gaussian Naive Bayes': avg_scores_nb,\n",
        "                         'Random Forest': avg_scores_rf,\n",
        "                         'Logistic Regression': avg_scores_lr}, index=scoring_list)\n",
        "\n",
        "ax = df_plots.plot.bar(rot=0, figsize=(12,6))"
      ],
      "execution_count": null,
      "outputs": [
        {
          "output_type": "display_data",
          "data": {
            "image/png": "[encoded data removed]",
            "text/plain": [
              "<Figure size 864x432 with 1 Axes>"
            ]
          },
          "metadata": {
            "tags": [],
            "needs_background": "light"
          }
        }
      ]
    },
    {
      "cell_type": "markdown",
      "metadata": {
        "colab_type": "text",
        "id": "mJrS7Rsehyuv"
      },
      "source": [
        "# **CONCLUSÃO**\n",
        "\n",
        "Após análise exploratória e testes, os modelos Randon foreste e Gaussian Naive Bayes tiveram métricas semelhantes, já a regressão logistica teve baixo desempenho. Com isso, tomando como referência a acurácia, o *Random Forest* teria vantagem\n"
      ]
    }
  ]
}