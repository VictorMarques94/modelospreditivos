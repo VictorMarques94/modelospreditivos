{
  "nbformat": 4,
  "nbformat_minor": 0,
  "metadata": {
    "colab": {
      "name": "Exercício 2.ipynb",
      "provenance": [],
      "authorship_tag": "ABX9TyM9LdNo3HmoHPJJM4bdtedr",
      "include_colab_link": true
    },
    "kernelspec": {
      "name": "python3",
      "display_name": "Python 3"
    }
  },
  "cells": [
    {
      "cell_type": "markdown",
      "metadata": {
        "id": "view-in-github",
        "colab_type": "text"
      },
      "source": [
        "<a href=\"https://colab.research.google.com/github/VictorMarques94/modelospreditivos/blob/master/Exerc%C3%ADcio_2.ipynb\" target=\"_parent\"><img src=\"https://colab.research.google.com/assets/colab-badge.svg\" alt=\"Open In Colab\"/></a>"
      ]
    },
    {
      "cell_type": "markdown",
      "metadata": {
        "id": "urf8iYIhEFrZ",
        "colab_type": "text"
      },
      "source": [
        "#**Análise e Engenharia de Dados - Cesar School**\n",
        "\n",
        "##**Disciplina: Mineração de Dados - Modelos Preditivos**\n",
        "\n",
        "###**Professor: Ricardo Prudêncio**\n",
        "###**Aluno: Victor Marques**\n",
        "\n"
      ]
    },
    {
      "cell_type": "markdown",
      "metadata": {
        "id": "ZvQ9V4tTEuIx",
        "colab_type": "text"
      },
      "source": [
        "# **Contextualização**\n",
        "\n",
        "A base de dados utilizada neste exercício foi retirada do portal \"UCI\" e se refere aos problemas com phishing."
      ]
    },
    {
      "cell_type": "code",
      "metadata": {
        "id": "HXpro3G89ssG",
        "colab_type": "code",
        "colab": {}
      },
      "source": [
        "# Importando as Bibliotecas\n",
        "from sklearn import datasets\n",
        "from sklearn.linear_model import Perceptron\n",
        "from sklearn.svm import SVC\n",
        "from sklearn.ensemble import RandomForestClassifier\n",
        "import numpy as np\n",
        "from sklearn.model_selection import train_test_split\n",
        "from sklearn import metrics\n",
        "from sklearn.linear_model import LogisticRegression\n",
        "import pandas as pd\n",
        "from scipy.io import arff\n",
        "import graphviz\n",
        "import matplotlib.pyplot as plt\n",
        "from sklearn import tree"
      ],
      "execution_count": 88,
      "outputs": []
    },
    {
      "cell_type": "markdown",
      "metadata": {
        "id": "i2ILrR4OKPZA",
        "colab_type": "text"
      },
      "source": [
        "#**Análise exploratória da base de dados**"
      ]
    },
    {
      "cell_type": "code",
      "metadata": {
        "id": "rhUE723FyjK1",
        "colab_type": "code",
        "colab": {}
      },
      "source": [
        "dados_f = arff.loadarff ('PhishingData.arff')"
      ],
      "execution_count": 98,
      "outputs": []
    },
    {
      "cell_type": "code",
      "metadata": {
        "id": "se3sxJjXyzsr",
        "colab_type": "code",
        "colab": {}
      },
      "source": [
        "dados_phishing = pd.DataFrame (dados_f[0], dtype=float) "
      ],
      "execution_count": 99,
      "outputs": []
    },
    {
      "cell_type": "code",
      "metadata": {
        "id": "jXDjM6DnqIL8",
        "colab_type": "code",
        "colab": {
          "base_uri": "https://localhost:8080/",
          "height": 669
        },
        "outputId": "79f6ddc1-b5f8-449c-db09-d7a8e49c4e72"
      },
      "source": [
        "dados_phishing.head(20)"
      ],
      "execution_count": 48,
      "outputs": [
        {
          "output_type": "execute_result",
          "data": {
            "text/html": [
              "<div>\n",
              "<style scoped>\n",
              "    .dataframe tbody tr th:only-of-type {\n",
              "        vertical-align: middle;\n",
              "    }\n",
              "\n",
              "    .dataframe tbody tr th {\n",
              "        vertical-align: top;\n",
              "    }\n",
              "\n",
              "    .dataframe thead th {\n",
              "        text-align: right;\n",
              "    }\n",
              "</style>\n",
              "<table border=\"1\" class=\"dataframe\">\n",
              "  <thead>\n",
              "    <tr style=\"text-align: right;\">\n",
              "      <th></th>\n",
              "      <th>SFH</th>\n",
              "      <th>popUpWidnow</th>\n",
              "      <th>SSLfinal_State</th>\n",
              "      <th>Request_URL</th>\n",
              "      <th>URL_of_Anchor</th>\n",
              "      <th>web_traffic</th>\n",
              "      <th>URL_Length</th>\n",
              "      <th>age_of_domain</th>\n",
              "      <th>having_IP_Address</th>\n",
              "      <th>Result</th>\n",
              "    </tr>\n",
              "  </thead>\n",
              "  <tbody>\n",
              "    <tr>\n",
              "      <th>0</th>\n",
              "      <td>1.0</td>\n",
              "      <td>-1.0</td>\n",
              "      <td>1.0</td>\n",
              "      <td>-1.0</td>\n",
              "      <td>-1.0</td>\n",
              "      <td>1.0</td>\n",
              "      <td>1.0</td>\n",
              "      <td>1.0</td>\n",
              "      <td>0.0</td>\n",
              "      <td>0.0</td>\n",
              "    </tr>\n",
              "    <tr>\n",
              "      <th>1</th>\n",
              "      <td>-1.0</td>\n",
              "      <td>-1.0</td>\n",
              "      <td>-1.0</td>\n",
              "      <td>-1.0</td>\n",
              "      <td>-1.0</td>\n",
              "      <td>0.0</td>\n",
              "      <td>1.0</td>\n",
              "      <td>1.0</td>\n",
              "      <td>1.0</td>\n",
              "      <td>1.0</td>\n",
              "    </tr>\n",
              "    <tr>\n",
              "      <th>2</th>\n",
              "      <td>1.0</td>\n",
              "      <td>-1.0</td>\n",
              "      <td>0.0</td>\n",
              "      <td>0.0</td>\n",
              "      <td>-1.0</td>\n",
              "      <td>0.0</td>\n",
              "      <td>-1.0</td>\n",
              "      <td>1.0</td>\n",
              "      <td>0.0</td>\n",
              "      <td>1.0</td>\n",
              "    </tr>\n",
              "    <tr>\n",
              "      <th>3</th>\n",
              "      <td>1.0</td>\n",
              "      <td>0.0</td>\n",
              "      <td>1.0</td>\n",
              "      <td>-1.0</td>\n",
              "      <td>-1.0</td>\n",
              "      <td>0.0</td>\n",
              "      <td>1.0</td>\n",
              "      <td>1.0</td>\n",
              "      <td>0.0</td>\n",
              "      <td>0.0</td>\n",
              "    </tr>\n",
              "    <tr>\n",
              "      <th>4</th>\n",
              "      <td>-1.0</td>\n",
              "      <td>-1.0</td>\n",
              "      <td>1.0</td>\n",
              "      <td>-1.0</td>\n",
              "      <td>0.0</td>\n",
              "      <td>0.0</td>\n",
              "      <td>-1.0</td>\n",
              "      <td>1.0</td>\n",
              "      <td>0.0</td>\n",
              "      <td>1.0</td>\n",
              "    </tr>\n",
              "    <tr>\n",
              "      <th>5</th>\n",
              "      <td>-1.0</td>\n",
              "      <td>-1.0</td>\n",
              "      <td>1.0</td>\n",
              "      <td>-1.0</td>\n",
              "      <td>-1.0</td>\n",
              "      <td>1.0</td>\n",
              "      <td>0.0</td>\n",
              "      <td>-1.0</td>\n",
              "      <td>0.0</td>\n",
              "      <td>1.0</td>\n",
              "    </tr>\n",
              "    <tr>\n",
              "      <th>6</th>\n",
              "      <td>1.0</td>\n",
              "      <td>-1.0</td>\n",
              "      <td>0.0</td>\n",
              "      <td>1.0</td>\n",
              "      <td>-1.0</td>\n",
              "      <td>0.0</td>\n",
              "      <td>0.0</td>\n",
              "      <td>1.0</td>\n",
              "      <td>0.0</td>\n",
              "      <td>-1.0</td>\n",
              "    </tr>\n",
              "    <tr>\n",
              "      <th>7</th>\n",
              "      <td>1.0</td>\n",
              "      <td>0.0</td>\n",
              "      <td>1.0</td>\n",
              "      <td>1.0</td>\n",
              "      <td>0.0</td>\n",
              "      <td>0.0</td>\n",
              "      <td>0.0</td>\n",
              "      <td>1.0</td>\n",
              "      <td>1.0</td>\n",
              "      <td>-1.0</td>\n",
              "    </tr>\n",
              "    <tr>\n",
              "      <th>8</th>\n",
              "      <td>-1.0</td>\n",
              "      <td>-1.0</td>\n",
              "      <td>0.0</td>\n",
              "      <td>-1.0</td>\n",
              "      <td>-1.0</td>\n",
              "      <td>-1.0</td>\n",
              "      <td>-1.0</td>\n",
              "      <td>1.0</td>\n",
              "      <td>0.0</td>\n",
              "      <td>0.0</td>\n",
              "    </tr>\n",
              "    <tr>\n",
              "      <th>9</th>\n",
              "      <td>-1.0</td>\n",
              "      <td>0.0</td>\n",
              "      <td>-1.0</td>\n",
              "      <td>-1.0</td>\n",
              "      <td>1.0</td>\n",
              "      <td>1.0</td>\n",
              "      <td>0.0</td>\n",
              "      <td>-1.0</td>\n",
              "      <td>0.0</td>\n",
              "      <td>1.0</td>\n",
              "    </tr>\n",
              "    <tr>\n",
              "      <th>10</th>\n",
              "      <td>-1.0</td>\n",
              "      <td>-1.0</td>\n",
              "      <td>0.0</td>\n",
              "      <td>-1.0</td>\n",
              "      <td>-1.0</td>\n",
              "      <td>1.0</td>\n",
              "      <td>-1.0</td>\n",
              "      <td>-1.0</td>\n",
              "      <td>0.0</td>\n",
              "      <td>1.0</td>\n",
              "    </tr>\n",
              "    <tr>\n",
              "      <th>11</th>\n",
              "      <td>1.0</td>\n",
              "      <td>0.0</td>\n",
              "      <td>1.0</td>\n",
              "      <td>1.0</td>\n",
              "      <td>1.0</td>\n",
              "      <td>-1.0</td>\n",
              "      <td>1.0</td>\n",
              "      <td>1.0</td>\n",
              "      <td>0.0</td>\n",
              "      <td>-1.0</td>\n",
              "    </tr>\n",
              "    <tr>\n",
              "      <th>12</th>\n",
              "      <td>1.0</td>\n",
              "      <td>-1.0</td>\n",
              "      <td>0.0</td>\n",
              "      <td>-1.0</td>\n",
              "      <td>1.0</td>\n",
              "      <td>0.0</td>\n",
              "      <td>1.0</td>\n",
              "      <td>1.0</td>\n",
              "      <td>0.0</td>\n",
              "      <td>1.0</td>\n",
              "    </tr>\n",
              "    <tr>\n",
              "      <th>13</th>\n",
              "      <td>1.0</td>\n",
              "      <td>0.0</td>\n",
              "      <td>1.0</td>\n",
              "      <td>0.0</td>\n",
              "      <td>-1.0</td>\n",
              "      <td>1.0</td>\n",
              "      <td>0.0</td>\n",
              "      <td>-1.0</td>\n",
              "      <td>0.0</td>\n",
              "      <td>-1.0</td>\n",
              "    </tr>\n",
              "    <tr>\n",
              "      <th>14</th>\n",
              "      <td>-1.0</td>\n",
              "      <td>-1.0</td>\n",
              "      <td>-1.0</td>\n",
              "      <td>1.0</td>\n",
              "      <td>-1.0</td>\n",
              "      <td>0.0</td>\n",
              "      <td>-1.0</td>\n",
              "      <td>1.0</td>\n",
              "      <td>0.0</td>\n",
              "      <td>1.0</td>\n",
              "    </tr>\n",
              "    <tr>\n",
              "      <th>15</th>\n",
              "      <td>0.0</td>\n",
              "      <td>0.0</td>\n",
              "      <td>-1.0</td>\n",
              "      <td>0.0</td>\n",
              "      <td>0.0</td>\n",
              "      <td>1.0</td>\n",
              "      <td>1.0</td>\n",
              "      <td>-1.0</td>\n",
              "      <td>1.0</td>\n",
              "      <td>1.0</td>\n",
              "    </tr>\n",
              "    <tr>\n",
              "      <th>16</th>\n",
              "      <td>-1.0</td>\n",
              "      <td>0.0</td>\n",
              "      <td>0.0</td>\n",
              "      <td>0.0</td>\n",
              "      <td>-1.0</td>\n",
              "      <td>1.0</td>\n",
              "      <td>-1.0</td>\n",
              "      <td>-1.0</td>\n",
              "      <td>0.0</td>\n",
              "      <td>1.0</td>\n",
              "    </tr>\n",
              "    <tr>\n",
              "      <th>17</th>\n",
              "      <td>1.0</td>\n",
              "      <td>1.0</td>\n",
              "      <td>1.0</td>\n",
              "      <td>-1.0</td>\n",
              "      <td>1.0</td>\n",
              "      <td>-1.0</td>\n",
              "      <td>1.0</td>\n",
              "      <td>1.0</td>\n",
              "      <td>0.0</td>\n",
              "      <td>-1.0</td>\n",
              "    </tr>\n",
              "    <tr>\n",
              "      <th>18</th>\n",
              "      <td>0.0</td>\n",
              "      <td>-1.0</td>\n",
              "      <td>-1.0</td>\n",
              "      <td>0.0</td>\n",
              "      <td>1.0</td>\n",
              "      <td>1.0</td>\n",
              "      <td>0.0</td>\n",
              "      <td>-1.0</td>\n",
              "      <td>0.0</td>\n",
              "      <td>1.0</td>\n",
              "    </tr>\n",
              "    <tr>\n",
              "      <th>19</th>\n",
              "      <td>1.0</td>\n",
              "      <td>-1.0</td>\n",
              "      <td>0.0</td>\n",
              "      <td>1.0</td>\n",
              "      <td>0.0</td>\n",
              "      <td>0.0</td>\n",
              "      <td>-1.0</td>\n",
              "      <td>1.0</td>\n",
              "      <td>0.0</td>\n",
              "      <td>1.0</td>\n",
              "    </tr>\n",
              "  </tbody>\n",
              "</table>\n",
              "</div>"
            ],
            "text/plain": [
              "    SFH  popUpWidnow  SSLfinal_State  ...  age_of_domain  having_IP_Address  Result\n",
              "0   1.0         -1.0             1.0  ...            1.0                0.0     0.0\n",
              "1  -1.0         -1.0            -1.0  ...            1.0                1.0     1.0\n",
              "2   1.0         -1.0             0.0  ...            1.0                0.0     1.0\n",
              "3   1.0          0.0             1.0  ...            1.0                0.0     0.0\n",
              "4  -1.0         -1.0             1.0  ...            1.0                0.0     1.0\n",
              "5  -1.0         -1.0             1.0  ...           -1.0                0.0     1.0\n",
              "6   1.0         -1.0             0.0  ...            1.0                0.0    -1.0\n",
              "7   1.0          0.0             1.0  ...            1.0                1.0    -1.0\n",
              "8  -1.0         -1.0             0.0  ...            1.0                0.0     0.0\n",
              "9  -1.0          0.0            -1.0  ...           -1.0                0.0     1.0\n",
              "10 -1.0         -1.0             0.0  ...           -1.0                0.0     1.0\n",
              "11  1.0          0.0             1.0  ...            1.0                0.0    -1.0\n",
              "12  1.0         -1.0             0.0  ...            1.0                0.0     1.0\n",
              "13  1.0          0.0             1.0  ...           -1.0                0.0    -1.0\n",
              "14 -1.0         -1.0            -1.0  ...            1.0                0.0     1.0\n",
              "15  0.0          0.0            -1.0  ...           -1.0                1.0     1.0\n",
              "16 -1.0          0.0             0.0  ...           -1.0                0.0     1.0\n",
              "17  1.0          1.0             1.0  ...            1.0                0.0    -1.0\n",
              "18  0.0         -1.0            -1.0  ...           -1.0                0.0     1.0\n",
              "19  1.0         -1.0             0.0  ...            1.0                0.0     1.0\n",
              "\n",
              "[20 rows x 10 columns]"
            ]
          },
          "metadata": {
            "tags": []
          },
          "execution_count": 48
        }
      ]
    },
    {
      "cell_type": "code",
      "metadata": {
        "id": "FS4udruGu1e8",
        "colab_type": "code",
        "colab": {
          "base_uri": "https://localhost:8080/",
          "height": 85
        },
        "outputId": "cd3a801d-fd94-47b2-dffa-c902f8d25f4e"
      },
      "source": [
        "dados_phishing.columns"
      ],
      "execution_count": 49,
      "outputs": [
        {
          "output_type": "execute_result",
          "data": {
            "text/plain": [
              "Index(['SFH', 'popUpWidnow', 'SSLfinal_State', 'Request_URL', 'URL_of_Anchor',\n",
              "       'web_traffic', 'URL_Length', 'age_of_domain', 'having_IP_Address',\n",
              "       'Result'],\n",
              "      dtype='object')"
            ]
          },
          "metadata": {
            "tags": []
          },
          "execution_count": 49
        }
      ]
    },
    {
      "cell_type": "code",
      "metadata": {
        "id": "rhmU5OXmvPEc",
        "colab_type": "code",
        "colab": {
          "base_uri": "https://localhost:8080/",
          "height": 306
        },
        "outputId": "525bdcd7-9fc6-4822-8731-cd0371a36240"
      },
      "source": [
        "dados_phishing.info() #verificar se tem dados para conversão (todos numéricos)"
      ],
      "execution_count": 50,
      "outputs": [
        {
          "output_type": "stream",
          "text": [
            "<class 'pandas.core.frame.DataFrame'>\n",
            "RangeIndex: 1353 entries, 0 to 1352\n",
            "Data columns (total 10 columns):\n",
            " #   Column             Non-Null Count  Dtype  \n",
            "---  ------             --------------  -----  \n",
            " 0   SFH                1353 non-null   float64\n",
            " 1   popUpWidnow        1353 non-null   float64\n",
            " 2   SSLfinal_State     1353 non-null   float64\n",
            " 3   Request_URL        1353 non-null   float64\n",
            " 4   URL_of_Anchor      1353 non-null   float64\n",
            " 5   web_traffic        1353 non-null   float64\n",
            " 6   URL_Length         1353 non-null   float64\n",
            " 7   age_of_domain      1353 non-null   float64\n",
            " 8   having_IP_Address  1353 non-null   float64\n",
            " 9   Result             1353 non-null   float64\n",
            "dtypes: float64(10)\n",
            "memory usage: 105.8 KB\n"
          ],
          "name": "stdout"
        }
      ]
    },
    {
      "cell_type": "code",
      "metadata": {
        "id": "FN0DTSRyvrsf",
        "colab_type": "code",
        "colab": {
          "base_uri": "https://localhost:8080/",
          "height": 297
        },
        "outputId": "c70bc1b1-cb84-49fc-fe37-d0136c075b53"
      },
      "source": [
        "dados_phishing.describe() "
      ],
      "execution_count": 51,
      "outputs": [
        {
          "output_type": "execute_result",
          "data": {
            "text/html": [
              "<div>\n",
              "<style scoped>\n",
              "    .dataframe tbody tr th:only-of-type {\n",
              "        vertical-align: middle;\n",
              "    }\n",
              "\n",
              "    .dataframe tbody tr th {\n",
              "        vertical-align: top;\n",
              "    }\n",
              "\n",
              "    .dataframe thead th {\n",
              "        text-align: right;\n",
              "    }\n",
              "</style>\n",
              "<table border=\"1\" class=\"dataframe\">\n",
              "  <thead>\n",
              "    <tr style=\"text-align: right;\">\n",
              "      <th></th>\n",
              "      <th>SFH</th>\n",
              "      <th>popUpWidnow</th>\n",
              "      <th>SSLfinal_State</th>\n",
              "      <th>Request_URL</th>\n",
              "      <th>URL_of_Anchor</th>\n",
              "      <th>web_traffic</th>\n",
              "      <th>URL_Length</th>\n",
              "      <th>age_of_domain</th>\n",
              "      <th>having_IP_Address</th>\n",
              "      <th>Result</th>\n",
              "    </tr>\n",
              "  </thead>\n",
              "  <tbody>\n",
              "    <tr>\n",
              "      <th>count</th>\n",
              "      <td>1353.000000</td>\n",
              "      <td>1353.000000</td>\n",
              "      <td>1353.000000</td>\n",
              "      <td>1353.000000</td>\n",
              "      <td>1353.000000</td>\n",
              "      <td>1353.000000</td>\n",
              "      <td>1353.000000</td>\n",
              "      <td>1353.000000</td>\n",
              "      <td>1353.000000</td>\n",
              "      <td>1353.000000</td>\n",
              "    </tr>\n",
              "    <tr>\n",
              "      <th>mean</th>\n",
              "      <td>0.237990</td>\n",
              "      <td>-0.258684</td>\n",
              "      <td>0.327421</td>\n",
              "      <td>-0.223208</td>\n",
              "      <td>-0.025129</td>\n",
              "      <td>0.000000</td>\n",
              "      <td>-0.053215</td>\n",
              "      <td>0.219512</td>\n",
              "      <td>0.114560</td>\n",
              "      <td>-0.113821</td>\n",
              "    </tr>\n",
              "    <tr>\n",
              "      <th>std</th>\n",
              "      <td>0.916389</td>\n",
              "      <td>0.679072</td>\n",
              "      <td>0.822193</td>\n",
              "      <td>0.799682</td>\n",
              "      <td>0.936262</td>\n",
              "      <td>0.806776</td>\n",
              "      <td>0.762552</td>\n",
              "      <td>0.975970</td>\n",
              "      <td>0.318608</td>\n",
              "      <td>0.954773</td>\n",
              "    </tr>\n",
              "    <tr>\n",
              "      <th>min</th>\n",
              "      <td>-1.000000</td>\n",
              "      <td>-1.000000</td>\n",
              "      <td>-1.000000</td>\n",
              "      <td>-1.000000</td>\n",
              "      <td>-1.000000</td>\n",
              "      <td>-1.000000</td>\n",
              "      <td>-1.000000</td>\n",
              "      <td>-1.000000</td>\n",
              "      <td>0.000000</td>\n",
              "      <td>-1.000000</td>\n",
              "    </tr>\n",
              "    <tr>\n",
              "      <th>25%</th>\n",
              "      <td>-1.000000</td>\n",
              "      <td>-1.000000</td>\n",
              "      <td>0.000000</td>\n",
              "      <td>-1.000000</td>\n",
              "      <td>-1.000000</td>\n",
              "      <td>-1.000000</td>\n",
              "      <td>-1.000000</td>\n",
              "      <td>-1.000000</td>\n",
              "      <td>0.000000</td>\n",
              "      <td>-1.000000</td>\n",
              "    </tr>\n",
              "    <tr>\n",
              "      <th>50%</th>\n",
              "      <td>1.000000</td>\n",
              "      <td>0.000000</td>\n",
              "      <td>1.000000</td>\n",
              "      <td>0.000000</td>\n",
              "      <td>0.000000</td>\n",
              "      <td>0.000000</td>\n",
              "      <td>0.000000</td>\n",
              "      <td>1.000000</td>\n",
              "      <td>0.000000</td>\n",
              "      <td>-1.000000</td>\n",
              "    </tr>\n",
              "    <tr>\n",
              "      <th>75%</th>\n",
              "      <td>1.000000</td>\n",
              "      <td>0.000000</td>\n",
              "      <td>1.000000</td>\n",
              "      <td>0.000000</td>\n",
              "      <td>1.000000</td>\n",
              "      <td>1.000000</td>\n",
              "      <td>1.000000</td>\n",
              "      <td>1.000000</td>\n",
              "      <td>0.000000</td>\n",
              "      <td>1.000000</td>\n",
              "    </tr>\n",
              "    <tr>\n",
              "      <th>max</th>\n",
              "      <td>1.000000</td>\n",
              "      <td>1.000000</td>\n",
              "      <td>1.000000</td>\n",
              "      <td>1.000000</td>\n",
              "      <td>1.000000</td>\n",
              "      <td>1.000000</td>\n",
              "      <td>1.000000</td>\n",
              "      <td>1.000000</td>\n",
              "      <td>1.000000</td>\n",
              "      <td>1.000000</td>\n",
              "    </tr>\n",
              "  </tbody>\n",
              "</table>\n",
              "</div>"
            ],
            "text/plain": [
              "               SFH  popUpWidnow  ...  having_IP_Address       Result\n",
              "count  1353.000000  1353.000000  ...        1353.000000  1353.000000\n",
              "mean      0.237990    -0.258684  ...           0.114560    -0.113821\n",
              "std       0.916389     0.679072  ...           0.318608     0.954773\n",
              "min      -1.000000    -1.000000  ...           0.000000    -1.000000\n",
              "25%      -1.000000    -1.000000  ...           0.000000    -1.000000\n",
              "50%       1.000000     0.000000  ...           0.000000    -1.000000\n",
              "75%       1.000000     0.000000  ...           0.000000     1.000000\n",
              "max       1.000000     1.000000  ...           1.000000     1.000000\n",
              "\n",
              "[8 rows x 10 columns]"
            ]
          },
          "metadata": {
            "tags": []
          },
          "execution_count": 51
        }
      ]
    },
    {
      "cell_type": "markdown",
      "metadata": {
        "id": "zSCdrMinKEmU",
        "colab_type": "text"
      },
      "source": [
        "**Apresentação da correlação entre os atributos para base de dados.**"
      ]
    },
    {
      "cell_type": "code",
      "metadata": {
        "id": "HoTzX97A2vbK",
        "colab_type": "code",
        "colab": {
          "base_uri": "https://localhost:8080/",
          "height": 359
        },
        "outputId": "b833a25a-3a7e-41d3-faed-4efa19b930eb"
      },
      "source": [
        "dados_cor = dados_phishing.corr(method='spearman')\n",
        "dados_cor"
      ],
      "execution_count": 52,
      "outputs": [
        {
          "output_type": "execute_result",
          "data": {
            "text/html": [
              "<div>\n",
              "<style scoped>\n",
              "    .dataframe tbody tr th:only-of-type {\n",
              "        vertical-align: middle;\n",
              "    }\n",
              "\n",
              "    .dataframe tbody tr th {\n",
              "        vertical-align: top;\n",
              "    }\n",
              "\n",
              "    .dataframe thead th {\n",
              "        text-align: right;\n",
              "    }\n",
              "</style>\n",
              "<table border=\"1\" class=\"dataframe\">\n",
              "  <thead>\n",
              "    <tr style=\"text-align: right;\">\n",
              "      <th></th>\n",
              "      <th>SFH</th>\n",
              "      <th>popUpWidnow</th>\n",
              "      <th>SSLfinal_State</th>\n",
              "      <th>Request_URL</th>\n",
              "      <th>URL_of_Anchor</th>\n",
              "      <th>web_traffic</th>\n",
              "      <th>URL_Length</th>\n",
              "      <th>age_of_domain</th>\n",
              "      <th>having_IP_Address</th>\n",
              "      <th>Result</th>\n",
              "    </tr>\n",
              "  </thead>\n",
              "  <tbody>\n",
              "    <tr>\n",
              "      <th>SFH</th>\n",
              "      <td>1.000000</td>\n",
              "      <td>0.383578</td>\n",
              "      <td>0.386249</td>\n",
              "      <td>0.231795</td>\n",
              "      <td>0.314036</td>\n",
              "      <td>-0.189490</td>\n",
              "      <td>0.150600</td>\n",
              "      <td>0.168091</td>\n",
              "      <td>0.042507</td>\n",
              "      <td>-0.698891</td>\n",
              "    </tr>\n",
              "    <tr>\n",
              "      <th>popUpWidnow</th>\n",
              "      <td>0.383578</td>\n",
              "      <td>1.000000</td>\n",
              "      <td>0.244573</td>\n",
              "      <td>0.112455</td>\n",
              "      <td>0.165456</td>\n",
              "      <td>-0.135077</td>\n",
              "      <td>0.136559</td>\n",
              "      <td>0.070816</td>\n",
              "      <td>0.121577</td>\n",
              "      <td>-0.513377</td>\n",
              "    </tr>\n",
              "    <tr>\n",
              "      <th>SSLfinal_State</th>\n",
              "      <td>0.386249</td>\n",
              "      <td>0.244573</td>\n",
              "      <td>1.000000</td>\n",
              "      <td>0.046103</td>\n",
              "      <td>0.102836</td>\n",
              "      <td>-0.163316</td>\n",
              "      <td>0.114083</td>\n",
              "      <td>0.198449</td>\n",
              "      <td>0.115657</td>\n",
              "      <td>-0.530451</td>\n",
              "    </tr>\n",
              "    <tr>\n",
              "      <th>Request_URL</th>\n",
              "      <td>0.231795</td>\n",
              "      <td>0.112455</td>\n",
              "      <td>0.046103</td>\n",
              "      <td>1.000000</td>\n",
              "      <td>0.311861</td>\n",
              "      <td>-0.041007</td>\n",
              "      <td>0.048621</td>\n",
              "      <td>0.047190</td>\n",
              "      <td>0.017281</td>\n",
              "      <td>-0.260166</td>\n",
              "    </tr>\n",
              "    <tr>\n",
              "      <th>URL_of_Anchor</th>\n",
              "      <td>0.314036</td>\n",
              "      <td>0.165456</td>\n",
              "      <td>0.102836</td>\n",
              "      <td>0.311861</td>\n",
              "      <td>1.000000</td>\n",
              "      <td>-0.091947</td>\n",
              "      <td>0.097577</td>\n",
              "      <td>0.069285</td>\n",
              "      <td>0.039955</td>\n",
              "      <td>-0.289553</td>\n",
              "    </tr>\n",
              "    <tr>\n",
              "      <th>web_traffic</th>\n",
              "      <td>-0.189490</td>\n",
              "      <td>-0.135077</td>\n",
              "      <td>-0.163316</td>\n",
              "      <td>-0.041007</td>\n",
              "      <td>-0.091947</td>\n",
              "      <td>1.000000</td>\n",
              "      <td>-0.109010</td>\n",
              "      <td>-0.683857</td>\n",
              "      <td>-0.094957</td>\n",
              "      <td>0.241720</td>\n",
              "    </tr>\n",
              "    <tr>\n",
              "      <th>URL_Length</th>\n",
              "      <td>0.150600</td>\n",
              "      <td>0.136559</td>\n",
              "      <td>0.114083</td>\n",
              "      <td>0.048621</td>\n",
              "      <td>0.097577</td>\n",
              "      <td>-0.109010</td>\n",
              "      <td>1.000000</td>\n",
              "      <td>0.076529</td>\n",
              "      <td>0.162184</td>\n",
              "      <td>-0.178642</td>\n",
              "    </tr>\n",
              "    <tr>\n",
              "      <th>age_of_domain</th>\n",
              "      <td>0.168091</td>\n",
              "      <td>0.070816</td>\n",
              "      <td>0.198449</td>\n",
              "      <td>0.047190</td>\n",
              "      <td>0.069285</td>\n",
              "      <td>-0.683857</td>\n",
              "      <td>0.076529</td>\n",
              "      <td>1.000000</td>\n",
              "      <td>0.040379</td>\n",
              "      <td>-0.229554</td>\n",
              "    </tr>\n",
              "    <tr>\n",
              "      <th>having_IP_Address</th>\n",
              "      <td>0.042507</td>\n",
              "      <td>0.121577</td>\n",
              "      <td>0.115657</td>\n",
              "      <td>0.017281</td>\n",
              "      <td>0.039955</td>\n",
              "      <td>-0.094957</td>\n",
              "      <td>0.162184</td>\n",
              "      <td>0.040379</td>\n",
              "      <td>1.000000</td>\n",
              "      <td>-0.058831</td>\n",
              "    </tr>\n",
              "    <tr>\n",
              "      <th>Result</th>\n",
              "      <td>-0.698891</td>\n",
              "      <td>-0.513377</td>\n",
              "      <td>-0.530451</td>\n",
              "      <td>-0.260166</td>\n",
              "      <td>-0.289553</td>\n",
              "      <td>0.241720</td>\n",
              "      <td>-0.178642</td>\n",
              "      <td>-0.229554</td>\n",
              "      <td>-0.058831</td>\n",
              "      <td>1.000000</td>\n",
              "    </tr>\n",
              "  </tbody>\n",
              "</table>\n",
              "</div>"
            ],
            "text/plain": [
              "                        SFH  popUpWidnow  ...  having_IP_Address    Result\n",
              "SFH                1.000000     0.383578  ...           0.042507 -0.698891\n",
              "popUpWidnow        0.383578     1.000000  ...           0.121577 -0.513377\n",
              "SSLfinal_State     0.386249     0.244573  ...           0.115657 -0.530451\n",
              "Request_URL        0.231795     0.112455  ...           0.017281 -0.260166\n",
              "URL_of_Anchor      0.314036     0.165456  ...           0.039955 -0.289553\n",
              "web_traffic       -0.189490    -0.135077  ...          -0.094957  0.241720\n",
              "URL_Length         0.150600     0.136559  ...           0.162184 -0.178642\n",
              "age_of_domain      0.168091     0.070816  ...           0.040379 -0.229554\n",
              "having_IP_Address  0.042507     0.121577  ...           1.000000 -0.058831\n",
              "Result            -0.698891    -0.513377  ...          -0.058831  1.000000\n",
              "\n",
              "[10 rows x 10 columns]"
            ]
          },
          "metadata": {
            "tags": []
          },
          "execution_count": 52
        }
      ]
    },
    {
      "cell_type": "markdown",
      "metadata": {
        "id": "AnIAMJ8vJ-hp",
        "colab_type": "text"
      },
      "source": [
        "**Representação gráfica da correlação para base de dados.**\n"
      ]
    },
    {
      "cell_type": "code",
      "metadata": {
        "id": "aRXgO9Wc24kx",
        "colab_type": "code",
        "colab": {
          "base_uri": "https://localhost:8080/",
          "height": 478
        },
        "outputId": "773bb18b-f256-4cce-81d3-1e4fd61a45d9"
      },
      "source": [
        "import seaborn as sns\n",
        "plt.figure(figsize = (12,6))\n",
        "sns.heatmap(dados_cor.corr(), annot=True, cmap='viridis')"
      ],
      "execution_count": 103,
      "outputs": [
        {
          "output_type": "execute_result",
          "data": {
            "text/plain": [
              "<matplotlib.axes._subplots.AxesSubplot at 0x7f68c5274470>"
            ]
          },
          "metadata": {
            "tags": []
          },
          "execution_count": 103
        },
        {
          "output_type": "display_data",
          "data": {
            "image/png": "[encoded data removed]",
            "text/plain": [
              "<Figure size 864x432 with 2 Axes>"
            ]
          },
          "metadata": {
            "tags": [],
            "needs_background": "light"
          }
        }
      ]
    },
    {
      "cell_type": "code",
      "metadata": {
        "id": "aA3MbzJv5DDI",
        "colab_type": "code",
        "colab": {}
      },
      "source": [
        "del dados_phishing ['having_IP_Address']"
      ],
      "execution_count": 54,
      "outputs": []
    },
    {
      "cell_type": "code",
      "metadata": {
        "id": "W3Y3EDPRRX_E",
        "colab_type": "code",
        "colab": {
          "base_uri": "https://localhost:8080/",
          "height": 187
        },
        "outputId": "32729762-f666-4d72-a080-14e053accb03"
      },
      "source": [
        "dados_tratados.isnull().sum()"
      ],
      "execution_count": 56,
      "outputs": [
        {
          "output_type": "execute_result",
          "data": {
            "text/plain": [
              "SFH               0\n",
              "popUpWidnow       0\n",
              "SSLfinal_State    0\n",
              "Request_URL       0\n",
              "URL_of_Anchor     0\n",
              "web_traffic       0\n",
              "URL_Length        0\n",
              "age_of_domain     0\n",
              "Result            0\n",
              "dtype: int64"
            ]
          },
          "metadata": {
            "tags": []
          },
          "execution_count": 56
        }
      ]
    },
    {
      "cell_type": "code",
      "metadata": {
        "id": "_Di426Bf64CM",
        "colab_type": "code",
        "colab": {
          "base_uri": "https://localhost:8080/",
          "height": 34
        },
        "outputId": "1cf8c5a3-4e16-4151-a1f4-450e9d46532b"
      },
      "source": [
        "dados_tratados['SFH'].unique()"
      ],
      "execution_count": 57,
      "outputs": [
        {
          "output_type": "execute_result",
          "data": {
            "text/plain": [
              "array([ 1., -1.,  0.])"
            ]
          },
          "metadata": {
            "tags": []
          },
          "execution_count": 57
        }
      ]
    },
    {
      "cell_type": "code",
      "metadata": {
        "id": "qOg8UEDb7Q6d",
        "colab_type": "code",
        "colab": {
          "base_uri": "https://localhost:8080/",
          "height": 34
        },
        "outputId": "952d7cf8-c3a1-4caa-a987-86c50b97648b"
      },
      "source": [
        "len(dados_tratados['SFH'].unique())"
      ],
      "execution_count": 58,
      "outputs": [
        {
          "output_type": "execute_result",
          "data": {
            "text/plain": [
              "3"
            ]
          },
          "metadata": {
            "tags": []
          },
          "execution_count": 58
        }
      ]
    },
    {
      "cell_type": "code",
      "metadata": {
        "id": "ys9kMc5I6Wwe",
        "colab_type": "code",
        "colab": {
          "base_uri": "https://localhost:8080/",
          "height": 170
        },
        "outputId": "333b0d70-3570-4ca4-afa6-66d72ca751b5"
      },
      "source": [
        "for i in range(0,9):\n",
        " print(dados_tratados.iloc[i].unique().shape)"
      ],
      "execution_count": 59,
      "outputs": [
        {
          "output_type": "stream",
          "text": [
            "(3,)\n",
            "(3,)\n",
            "(3,)\n",
            "(3,)\n",
            "(3,)\n",
            "(3,)\n",
            "(3,)\n",
            "(3,)\n",
            "(3,)\n"
          ],
          "name": "stdout"
        }
      ]
    },
    {
      "cell_type": "code",
      "metadata": {
        "id": "hVUObzVKSHHS",
        "colab_type": "code",
        "colab": {
          "base_uri": "https://localhost:8080/",
          "height": 419
        },
        "outputId": "8a92c01c-692d-44c5-b95b-9280a88fa1ad"
      },
      "source": [
        "dados_tratados"
      ],
      "execution_count": 60,
      "outputs": [
        {
          "output_type": "execute_result",
          "data": {
            "text/html": [
              "<div>\n",
              "<style scoped>\n",
              "    .dataframe tbody tr th:only-of-type {\n",
              "        vertical-align: middle;\n",
              "    }\n",
              "\n",
              "    .dataframe tbody tr th {\n",
              "        vertical-align: top;\n",
              "    }\n",
              "\n",
              "    .dataframe thead th {\n",
              "        text-align: right;\n",
              "    }\n",
              "</style>\n",
              "<table border=\"1\" class=\"dataframe\">\n",
              "  <thead>\n",
              "    <tr style=\"text-align: right;\">\n",
              "      <th></th>\n",
              "      <th>SFH</th>\n",
              "      <th>popUpWidnow</th>\n",
              "      <th>SSLfinal_State</th>\n",
              "      <th>Request_URL</th>\n",
              "      <th>URL_of_Anchor</th>\n",
              "      <th>web_traffic</th>\n",
              "      <th>URL_Length</th>\n",
              "      <th>age_of_domain</th>\n",
              "      <th>Result</th>\n",
              "    </tr>\n",
              "  </thead>\n",
              "  <tbody>\n",
              "    <tr>\n",
              "      <th>0</th>\n",
              "      <td>1.0</td>\n",
              "      <td>-1.0</td>\n",
              "      <td>1.0</td>\n",
              "      <td>-1.0</td>\n",
              "      <td>-1.0</td>\n",
              "      <td>1.0</td>\n",
              "      <td>1.0</td>\n",
              "      <td>1.0</td>\n",
              "      <td>0.0</td>\n",
              "    </tr>\n",
              "    <tr>\n",
              "      <th>1</th>\n",
              "      <td>-1.0</td>\n",
              "      <td>-1.0</td>\n",
              "      <td>-1.0</td>\n",
              "      <td>-1.0</td>\n",
              "      <td>-1.0</td>\n",
              "      <td>0.0</td>\n",
              "      <td>1.0</td>\n",
              "      <td>1.0</td>\n",
              "      <td>1.0</td>\n",
              "    </tr>\n",
              "    <tr>\n",
              "      <th>2</th>\n",
              "      <td>1.0</td>\n",
              "      <td>-1.0</td>\n",
              "      <td>0.0</td>\n",
              "      <td>0.0</td>\n",
              "      <td>-1.0</td>\n",
              "      <td>0.0</td>\n",
              "      <td>-1.0</td>\n",
              "      <td>1.0</td>\n",
              "      <td>1.0</td>\n",
              "    </tr>\n",
              "    <tr>\n",
              "      <th>3</th>\n",
              "      <td>1.0</td>\n",
              "      <td>0.0</td>\n",
              "      <td>1.0</td>\n",
              "      <td>-1.0</td>\n",
              "      <td>-1.0</td>\n",
              "      <td>0.0</td>\n",
              "      <td>1.0</td>\n",
              "      <td>1.0</td>\n",
              "      <td>0.0</td>\n",
              "    </tr>\n",
              "    <tr>\n",
              "      <th>4</th>\n",
              "      <td>-1.0</td>\n",
              "      <td>-1.0</td>\n",
              "      <td>1.0</td>\n",
              "      <td>-1.0</td>\n",
              "      <td>0.0</td>\n",
              "      <td>0.0</td>\n",
              "      <td>-1.0</td>\n",
              "      <td>1.0</td>\n",
              "      <td>1.0</td>\n",
              "    </tr>\n",
              "    <tr>\n",
              "      <th>...</th>\n",
              "      <td>...</td>\n",
              "      <td>...</td>\n",
              "      <td>...</td>\n",
              "      <td>...</td>\n",
              "      <td>...</td>\n",
              "      <td>...</td>\n",
              "      <td>...</td>\n",
              "      <td>...</td>\n",
              "      <td>...</td>\n",
              "    </tr>\n",
              "    <tr>\n",
              "      <th>1348</th>\n",
              "      <td>-1.0</td>\n",
              "      <td>-1.0</td>\n",
              "      <td>-1.0</td>\n",
              "      <td>-1.0</td>\n",
              "      <td>-1.0</td>\n",
              "      <td>-1.0</td>\n",
              "      <td>0.0</td>\n",
              "      <td>1.0</td>\n",
              "      <td>1.0</td>\n",
              "    </tr>\n",
              "    <tr>\n",
              "      <th>1349</th>\n",
              "      <td>-1.0</td>\n",
              "      <td>0.0</td>\n",
              "      <td>1.0</td>\n",
              "      <td>0.0</td>\n",
              "      <td>-1.0</td>\n",
              "      <td>0.0</td>\n",
              "      <td>0.0</td>\n",
              "      <td>1.0</td>\n",
              "      <td>-1.0</td>\n",
              "    </tr>\n",
              "    <tr>\n",
              "      <th>1350</th>\n",
              "      <td>-1.0</td>\n",
              "      <td>0.0</td>\n",
              "      <td>-1.0</td>\n",
              "      <td>-1.0</td>\n",
              "      <td>-1.0</td>\n",
              "      <td>0.0</td>\n",
              "      <td>-1.0</td>\n",
              "      <td>-1.0</td>\n",
              "      <td>1.0</td>\n",
              "    </tr>\n",
              "    <tr>\n",
              "      <th>1351</th>\n",
              "      <td>0.0</td>\n",
              "      <td>0.0</td>\n",
              "      <td>1.0</td>\n",
              "      <td>0.0</td>\n",
              "      <td>0.0</td>\n",
              "      <td>0.0</td>\n",
              "      <td>-1.0</td>\n",
              "      <td>1.0</td>\n",
              "      <td>1.0</td>\n",
              "    </tr>\n",
              "    <tr>\n",
              "      <th>1352</th>\n",
              "      <td>1.0</td>\n",
              "      <td>0.0</td>\n",
              "      <td>1.0</td>\n",
              "      <td>1.0</td>\n",
              "      <td>1.0</td>\n",
              "      <td>0.0</td>\n",
              "      <td>-1.0</td>\n",
              "      <td>-1.0</td>\n",
              "      <td>-1.0</td>\n",
              "    </tr>\n",
              "  </tbody>\n",
              "</table>\n",
              "<p>1353 rows × 9 columns</p>\n",
              "</div>"
            ],
            "text/plain": [
              "      SFH  popUpWidnow  SSLfinal_State  ...  URL_Length  age_of_domain  Result\n",
              "0     1.0         -1.0             1.0  ...         1.0            1.0     0.0\n",
              "1    -1.0         -1.0            -1.0  ...         1.0            1.0     1.0\n",
              "2     1.0         -1.0             0.0  ...        -1.0            1.0     1.0\n",
              "3     1.0          0.0             1.0  ...         1.0            1.0     0.0\n",
              "4    -1.0         -1.0             1.0  ...        -1.0            1.0     1.0\n",
              "...   ...          ...             ...  ...         ...            ...     ...\n",
              "1348 -1.0         -1.0            -1.0  ...         0.0            1.0     1.0\n",
              "1349 -1.0          0.0             1.0  ...         0.0            1.0    -1.0\n",
              "1350 -1.0          0.0            -1.0  ...        -1.0           -1.0     1.0\n",
              "1351  0.0          0.0             1.0  ...        -1.0            1.0     1.0\n",
              "1352  1.0          0.0             1.0  ...        -1.0           -1.0    -1.0\n",
              "\n",
              "[1353 rows x 9 columns]"
            ]
          },
          "metadata": {
            "tags": []
          },
          "execution_count": 60
        }
      ]
    },
    {
      "cell_type": "code",
      "metadata": {
        "id": "CMqZ40x5SLaq",
        "colab_type": "code",
        "colab": {
          "base_uri": "https://localhost:8080/",
          "height": 34
        },
        "outputId": "2ba5bcde-ad41-4e87-d404-096d9ce058e2"
      },
      "source": [
        "type (dados_tratados)"
      ],
      "execution_count": 61,
      "outputs": [
        {
          "output_type": "execute_result",
          "data": {
            "text/plain": [
              "pandas.core.frame.DataFrame"
            ]
          },
          "metadata": {
            "tags": []
          },
          "execution_count": 61
        }
      ]
    },
    {
      "cell_type": "markdown",
      "metadata": {
        "id": "SyvIncpUSQ5k",
        "colab_type": "text"
      },
      "source": [
        "**Definição dos Rótulos**"
      ]
    },
    {
      "cell_type": "markdown",
      "metadata": {
        "id": "kxsRY8BjSvbc",
        "colab_type": "text"
      },
      "source": [
        "Primeira forma"
      ]
    },
    {
      "cell_type": "code",
      "metadata": {
        "id": "IbhLSH6ASTzG",
        "colab_type": "code",
        "colab": {
          "base_uri": "https://localhost:8080/",
          "height": 119
        },
        "outputId": "55724efd-2a78-4f19-d0b4-a36b2b869eb0"
      },
      "source": [
        "rotulo = dados_tratados['Result'].copy()\n",
        "rotulo.head()"
      ],
      "execution_count": 62,
      "outputs": [
        {
          "output_type": "execute_result",
          "data": {
            "text/plain": [
              "0    0.0\n",
              "1    1.0\n",
              "2    1.0\n",
              "3    0.0\n",
              "4    1.0\n",
              "Name: Result, dtype: float64"
            ]
          },
          "metadata": {
            "tags": []
          },
          "execution_count": 62
        }
      ]
    },
    {
      "cell_type": "code",
      "metadata": {
        "id": "Hcz6hASLScfg",
        "colab_type": "code",
        "colab": {
          "base_uri": "https://localhost:8080/",
          "height": 204
        },
        "outputId": "8653f588-bfe7-4e22-8171-15aa1a31a587"
      },
      "source": [
        "dados = dados_tratados.copy()\n",
        "del dados['Result']\n",
        "dados.head()\n"
      ],
      "execution_count": 63,
      "outputs": [
        {
          "output_type": "execute_result",
          "data": {
            "text/html": [
              "<div>\n",
              "<style scoped>\n",
              "    .dataframe tbody tr th:only-of-type {\n",
              "        vertical-align: middle;\n",
              "    }\n",
              "\n",
              "    .dataframe tbody tr th {\n",
              "        vertical-align: top;\n",
              "    }\n",
              "\n",
              "    .dataframe thead th {\n",
              "        text-align: right;\n",
              "    }\n",
              "</style>\n",
              "<table border=\"1\" class=\"dataframe\">\n",
              "  <thead>\n",
              "    <tr style=\"text-align: right;\">\n",
              "      <th></th>\n",
              "      <th>SFH</th>\n",
              "      <th>popUpWidnow</th>\n",
              "      <th>SSLfinal_State</th>\n",
              "      <th>Request_URL</th>\n",
              "      <th>URL_of_Anchor</th>\n",
              "      <th>web_traffic</th>\n",
              "      <th>URL_Length</th>\n",
              "      <th>age_of_domain</th>\n",
              "    </tr>\n",
              "  </thead>\n",
              "  <tbody>\n",
              "    <tr>\n",
              "      <th>0</th>\n",
              "      <td>1.0</td>\n",
              "      <td>-1.0</td>\n",
              "      <td>1.0</td>\n",
              "      <td>-1.0</td>\n",
              "      <td>-1.0</td>\n",
              "      <td>1.0</td>\n",
              "      <td>1.0</td>\n",
              "      <td>1.0</td>\n",
              "    </tr>\n",
              "    <tr>\n",
              "      <th>1</th>\n",
              "      <td>-1.0</td>\n",
              "      <td>-1.0</td>\n",
              "      <td>-1.0</td>\n",
              "      <td>-1.0</td>\n",
              "      <td>-1.0</td>\n",
              "      <td>0.0</td>\n",
              "      <td>1.0</td>\n",
              "      <td>1.0</td>\n",
              "    </tr>\n",
              "    <tr>\n",
              "      <th>2</th>\n",
              "      <td>1.0</td>\n",
              "      <td>-1.0</td>\n",
              "      <td>0.0</td>\n",
              "      <td>0.0</td>\n",
              "      <td>-1.0</td>\n",
              "      <td>0.0</td>\n",
              "      <td>-1.0</td>\n",
              "      <td>1.0</td>\n",
              "    </tr>\n",
              "    <tr>\n",
              "      <th>3</th>\n",
              "      <td>1.0</td>\n",
              "      <td>0.0</td>\n",
              "      <td>1.0</td>\n",
              "      <td>-1.0</td>\n",
              "      <td>-1.0</td>\n",
              "      <td>0.0</td>\n",
              "      <td>1.0</td>\n",
              "      <td>1.0</td>\n",
              "    </tr>\n",
              "    <tr>\n",
              "      <th>4</th>\n",
              "      <td>-1.0</td>\n",
              "      <td>-1.0</td>\n",
              "      <td>1.0</td>\n",
              "      <td>-1.0</td>\n",
              "      <td>0.0</td>\n",
              "      <td>0.0</td>\n",
              "      <td>-1.0</td>\n",
              "      <td>1.0</td>\n",
              "    </tr>\n",
              "  </tbody>\n",
              "</table>\n",
              "</div>"
            ],
            "text/plain": [
              "   SFH  popUpWidnow  SSLfinal_State  ...  web_traffic  URL_Length  age_of_domain\n",
              "0  1.0         -1.0             1.0  ...          1.0         1.0            1.0\n",
              "1 -1.0         -1.0            -1.0  ...          0.0         1.0            1.0\n",
              "2  1.0         -1.0             0.0  ...          0.0        -1.0            1.0\n",
              "3  1.0          0.0             1.0  ...          0.0         1.0            1.0\n",
              "4 -1.0         -1.0             1.0  ...          0.0        -1.0            1.0\n",
              "\n",
              "[5 rows x 8 columns]"
            ]
          },
          "metadata": {
            "tags": []
          },
          "execution_count": 63
        }
      ]
    },
    {
      "cell_type": "code",
      "metadata": {
        "id": "rRKYd-E_Sr_x",
        "colab_type": "code",
        "colab": {
          "base_uri": "https://localhost:8080/",
          "height": 204
        },
        "outputId": "d30c92f9-7de0-455e-b0ca-62c246470945"
      },
      "source": [
        "dados_tratados.head()"
      ],
      "execution_count": 64,
      "outputs": [
        {
          "output_type": "execute_result",
          "data": {
            "text/html": [
              "<div>\n",
              "<style scoped>\n",
              "    .dataframe tbody tr th:only-of-type {\n",
              "        vertical-align: middle;\n",
              "    }\n",
              "\n",
              "    .dataframe tbody tr th {\n",
              "        vertical-align: top;\n",
              "    }\n",
              "\n",
              "    .dataframe thead th {\n",
              "        text-align: right;\n",
              "    }\n",
              "</style>\n",
              "<table border=\"1\" class=\"dataframe\">\n",
              "  <thead>\n",
              "    <tr style=\"text-align: right;\">\n",
              "      <th></th>\n",
              "      <th>SFH</th>\n",
              "      <th>popUpWidnow</th>\n",
              "      <th>SSLfinal_State</th>\n",
              "      <th>Request_URL</th>\n",
              "      <th>URL_of_Anchor</th>\n",
              "      <th>web_traffic</th>\n",
              "      <th>URL_Length</th>\n",
              "      <th>age_of_domain</th>\n",
              "      <th>Result</th>\n",
              "    </tr>\n",
              "  </thead>\n",
              "  <tbody>\n",
              "    <tr>\n",
              "      <th>0</th>\n",
              "      <td>1.0</td>\n",
              "      <td>-1.0</td>\n",
              "      <td>1.0</td>\n",
              "      <td>-1.0</td>\n",
              "      <td>-1.0</td>\n",
              "      <td>1.0</td>\n",
              "      <td>1.0</td>\n",
              "      <td>1.0</td>\n",
              "      <td>0.0</td>\n",
              "    </tr>\n",
              "    <tr>\n",
              "      <th>1</th>\n",
              "      <td>-1.0</td>\n",
              "      <td>-1.0</td>\n",
              "      <td>-1.0</td>\n",
              "      <td>-1.0</td>\n",
              "      <td>-1.0</td>\n",
              "      <td>0.0</td>\n",
              "      <td>1.0</td>\n",
              "      <td>1.0</td>\n",
              "      <td>1.0</td>\n",
              "    </tr>\n",
              "    <tr>\n",
              "      <th>2</th>\n",
              "      <td>1.0</td>\n",
              "      <td>-1.0</td>\n",
              "      <td>0.0</td>\n",
              "      <td>0.0</td>\n",
              "      <td>-1.0</td>\n",
              "      <td>0.0</td>\n",
              "      <td>-1.0</td>\n",
              "      <td>1.0</td>\n",
              "      <td>1.0</td>\n",
              "    </tr>\n",
              "    <tr>\n",
              "      <th>3</th>\n",
              "      <td>1.0</td>\n",
              "      <td>0.0</td>\n",
              "      <td>1.0</td>\n",
              "      <td>-1.0</td>\n",
              "      <td>-1.0</td>\n",
              "      <td>0.0</td>\n",
              "      <td>1.0</td>\n",
              "      <td>1.0</td>\n",
              "      <td>0.0</td>\n",
              "    </tr>\n",
              "    <tr>\n",
              "      <th>4</th>\n",
              "      <td>-1.0</td>\n",
              "      <td>-1.0</td>\n",
              "      <td>1.0</td>\n",
              "      <td>-1.0</td>\n",
              "      <td>0.0</td>\n",
              "      <td>0.0</td>\n",
              "      <td>-1.0</td>\n",
              "      <td>1.0</td>\n",
              "      <td>1.0</td>\n",
              "    </tr>\n",
              "  </tbody>\n",
              "</table>\n",
              "</div>"
            ],
            "text/plain": [
              "   SFH  popUpWidnow  SSLfinal_State  ...  URL_Length  age_of_domain  Result\n",
              "0  1.0         -1.0             1.0  ...         1.0            1.0     0.0\n",
              "1 -1.0         -1.0            -1.0  ...         1.0            1.0     1.0\n",
              "2  1.0         -1.0             0.0  ...        -1.0            1.0     1.0\n",
              "3  1.0          0.0             1.0  ...         1.0            1.0     0.0\n",
              "4 -1.0         -1.0             1.0  ...        -1.0            1.0     1.0\n",
              "\n",
              "[5 rows x 9 columns]"
            ]
          },
          "metadata": {
            "tags": []
          },
          "execution_count": 64
        }
      ]
    },
    {
      "cell_type": "markdown",
      "metadata": {
        "id": "Cfz0K5kASxqp",
        "colab_type": "text"
      },
      "source": [
        "Segunda forma"
      ]
    },
    {
      "cell_type": "code",
      "metadata": {
        "id": "aSCIMDC5S0Wc",
        "colab_type": "code",
        "colab": {
          "base_uri": "https://localhost:8080/",
          "height": 204
        },
        "outputId": "a4393e65-90df-4d76-cd32-0307c906e866"
      },
      "source": [
        "X_d = dados_tratados.iloc[:,0:-1]\n",
        "X_d.head()"
      ],
      "execution_count": 65,
      "outputs": [
        {
          "output_type": "execute_result",
          "data": {
            "text/html": [
              "<div>\n",
              "<style scoped>\n",
              "    .dataframe tbody tr th:only-of-type {\n",
              "        vertical-align: middle;\n",
              "    }\n",
              "\n",
              "    .dataframe tbody tr th {\n",
              "        vertical-align: top;\n",
              "    }\n",
              "\n",
              "    .dataframe thead th {\n",
              "        text-align: right;\n",
              "    }\n",
              "</style>\n",
              "<table border=\"1\" class=\"dataframe\">\n",
              "  <thead>\n",
              "    <tr style=\"text-align: right;\">\n",
              "      <th></th>\n",
              "      <th>SFH</th>\n",
              "      <th>popUpWidnow</th>\n",
              "      <th>SSLfinal_State</th>\n",
              "      <th>Request_URL</th>\n",
              "      <th>URL_of_Anchor</th>\n",
              "      <th>web_traffic</th>\n",
              "      <th>URL_Length</th>\n",
              "      <th>age_of_domain</th>\n",
              "    </tr>\n",
              "  </thead>\n",
              "  <tbody>\n",
              "    <tr>\n",
              "      <th>0</th>\n",
              "      <td>1.0</td>\n",
              "      <td>-1.0</td>\n",
              "      <td>1.0</td>\n",
              "      <td>-1.0</td>\n",
              "      <td>-1.0</td>\n",
              "      <td>1.0</td>\n",
              "      <td>1.0</td>\n",
              "      <td>1.0</td>\n",
              "    </tr>\n",
              "    <tr>\n",
              "      <th>1</th>\n",
              "      <td>-1.0</td>\n",
              "      <td>-1.0</td>\n",
              "      <td>-1.0</td>\n",
              "      <td>-1.0</td>\n",
              "      <td>-1.0</td>\n",
              "      <td>0.0</td>\n",
              "      <td>1.0</td>\n",
              "      <td>1.0</td>\n",
              "    </tr>\n",
              "    <tr>\n",
              "      <th>2</th>\n",
              "      <td>1.0</td>\n",
              "      <td>-1.0</td>\n",
              "      <td>0.0</td>\n",
              "      <td>0.0</td>\n",
              "      <td>-1.0</td>\n",
              "      <td>0.0</td>\n",
              "      <td>-1.0</td>\n",
              "      <td>1.0</td>\n",
              "    </tr>\n",
              "    <tr>\n",
              "      <th>3</th>\n",
              "      <td>1.0</td>\n",
              "      <td>0.0</td>\n",
              "      <td>1.0</td>\n",
              "      <td>-1.0</td>\n",
              "      <td>-1.0</td>\n",
              "      <td>0.0</td>\n",
              "      <td>1.0</td>\n",
              "      <td>1.0</td>\n",
              "    </tr>\n",
              "    <tr>\n",
              "      <th>4</th>\n",
              "      <td>-1.0</td>\n",
              "      <td>-1.0</td>\n",
              "      <td>1.0</td>\n",
              "      <td>-1.0</td>\n",
              "      <td>0.0</td>\n",
              "      <td>0.0</td>\n",
              "      <td>-1.0</td>\n",
              "      <td>1.0</td>\n",
              "    </tr>\n",
              "  </tbody>\n",
              "</table>\n",
              "</div>"
            ],
            "text/plain": [
              "   SFH  popUpWidnow  SSLfinal_State  ...  web_traffic  URL_Length  age_of_domain\n",
              "0  1.0         -1.0             1.0  ...          1.0         1.0            1.0\n",
              "1 -1.0         -1.0            -1.0  ...          0.0         1.0            1.0\n",
              "2  1.0         -1.0             0.0  ...          0.0        -1.0            1.0\n",
              "3  1.0          0.0             1.0  ...          0.0         1.0            1.0\n",
              "4 -1.0         -1.0             1.0  ...          0.0        -1.0            1.0\n",
              "\n",
              "[5 rows x 8 columns]"
            ]
          },
          "metadata": {
            "tags": []
          },
          "execution_count": 65
        }
      ]
    },
    {
      "cell_type": "code",
      "metadata": {
        "id": "V_vJ9vCCTATN",
        "colab_type": "code",
        "colab": {
          "base_uri": "https://localhost:8080/",
          "height": 221
        },
        "outputId": "cc290a08-7bb6-402f-d243-5197278a0c80"
      },
      "source": [
        "y_r = dados_tratados.iloc[:,-1]\n",
        "y_r"
      ],
      "execution_count": 66,
      "outputs": [
        {
          "output_type": "execute_result",
          "data": {
            "text/plain": [
              "0       0.0\n",
              "1       1.0\n",
              "2       1.0\n",
              "3       0.0\n",
              "4       1.0\n",
              "       ... \n",
              "1348    1.0\n",
              "1349   -1.0\n",
              "1350    1.0\n",
              "1351    1.0\n",
              "1352   -1.0\n",
              "Name: Result, Length: 1353, dtype: float64"
            ]
          },
          "metadata": {
            "tags": []
          },
          "execution_count": 66
        }
      ]
    },
    {
      "cell_type": "markdown",
      "metadata": {
        "id": "MNrcBs4nPIvN",
        "colab_type": "text"
      },
      "source": [
        "#**Preparando treino e teste**"
      ]
    },
    {
      "cell_type": "markdown",
      "metadata": {
        "id": "q5wutB8-TcNv",
        "colab_type": "text"
      },
      "source": [
        "**Criando Base de Treinamento e Teste**"
      ]
    },
    {
      "cell_type": "code",
      "metadata": {
        "id": "IKEmtdHYBt9e",
        "colab_type": "code",
        "colab": {}
      },
      "source": [
        "dados_treino, dados_teste, rotulos_treino, rotulos_teste = train_test_split(X_d, y_r, test_size=0.3, stratify=y_r, random_state=1)\n"
      ],
      "execution_count": 105,
      "outputs": []
    },
    {
      "cell_type": "markdown",
      "metadata": {
        "id": "PkxMvircTo4Q",
        "colab_type": "text"
      },
      "source": [
        "**Treinamento**"
      ]
    },
    {
      "cell_type": "code",
      "metadata": {
        "id": "PtH44s_MToeO",
        "colab_type": "code",
        "colab": {}
      },
      "source": [
        "# Definição dos parâmetros\n",
        "solver = ['newton-cg', 'lbfgs', 'liblinear', 'sag', 'saga']\n",
        "tol = [1e-4, 1e-3, 1e-2, 1e-1]\n",
        "C = [0.1, 1.0, 10.0]"
      ],
      "execution_count": 106,
      "outputs": []
    },
    {
      "cell_type": "code",
      "metadata": {
        "id": "Hq6tigNgUNNp",
        "colab_type": "code",
        "colab": {
          "base_uri": "https://localhost:8080/",
          "height": 102
        },
        "outputId": "628252a0-5ff5-4e88-8d42-372db8b3c75b"
      },
      "source": [
        "best_acc = 0\n",
        "for s in solver:\n",
        "  for t in tol:\n",
        "    for c in C:\n",
        "      clf_baseline = LogisticRegression(tol=t, solver=s, C=c)\n",
        "      clf_baseline.fit(dados_treino, rotulos_treino)\n",
        "      predictions = clf_baseline.predict(dados_treino)\n",
        "      current_acc = metrics.accuracy_score(rotulos_treino, predictions)\n",
        "      if current_acc > best_acc:\n",
        "        best_acc = current_acc\n",
        "        best_model = clf_baseline\n",
        "        print(best_acc)"
      ],
      "execution_count": 107,
      "outputs": [
        {
          "output_type": "stream",
          "text": [
            "0.8479408658922915\n",
            "0.8489968321013728\n"
          ],
          "name": "stdout"
        },
        {
          "output_type": "stream",
          "text": [
            "/usr/local/lib/python3.6/dist-packages/sklearn/linear_model/_sag.py:330: ConvergenceWarning: The max_iter was reached which means the coef_ did not converge\n",
            "  \"the coef_ did not converge\", ConvergenceWarning)\n"
          ],
          "name": "stderr"
        },
        {
          "output_type": "stream",
          "text": [
            "0.8511087645195353\n"
          ],
          "name": "stdout"
        }
      ]
    },
    {
      "cell_type": "code",
      "metadata": {
        "id": "QhQhlZ49Yk0g",
        "colab_type": "code",
        "colab": {
          "base_uri": "https://localhost:8080/",
          "height": 102
        },
        "outputId": "11280876-f074-4068-c935-f257db60dbd2"
      },
      "source": [
        "best_model"
      ],
      "execution_count": 108,
      "outputs": [
        {
          "output_type": "execute_result",
          "data": {
            "text/plain": [
              "LogisticRegression(C=0.1, class_weight=None, dual=False, fit_intercept=True,\n",
              "                   intercept_scaling=1, l1_ratio=None, max_iter=100,\n",
              "                   multi_class='auto', n_jobs=None, penalty='l2',\n",
              "                   random_state=None, solver='saga', tol=0.1, verbose=0,\n",
              "                   warm_start=False)"
            ]
          },
          "metadata": {
            "tags": []
          },
          "execution_count": 108
        }
      ]
    },
    {
      "cell_type": "code",
      "metadata": {
        "id": "KzQGgYKNYsYM",
        "colab_type": "code",
        "colab": {
          "base_uri": "https://localhost:8080/",
          "height": 561
        },
        "outputId": "6435b80a-fdd6-41b1-c028-e68998cb1a78"
      },
      "source": [
        "predict_teste = best_model.predict(dados_teste)\n",
        "predict_teste"
      ],
      "execution_count": 109,
      "outputs": [
        {
          "output_type": "execute_result",
          "data": {
            "text/plain": [
              "array([ 1.,  1., -1., -1., -1.,  1., -1., -1., -1., -1.,  1., -1., -1.,\n",
              "        1.,  1.,  1., -1., -1., -1.,  0.,  1., -1.,  1., -1., -1., -1.,\n",
              "       -1.,  1., -1., -1., -1., -1., -1.,  1.,  1., -1.,  1.,  1.,  1.,\n",
              "        1., -1., -1., -1.,  1., -1.,  1., -1., -1.,  1., -1.,  1., -1.,\n",
              "        1., -1.,  1., -1.,  1.,  1., -1., -1.,  1., -1.,  1., -1., -1.,\n",
              "        1.,  1., -1.,  1., -1., -1., -1., -1., -1.,  0., -1.,  1.,  1.,\n",
              "        1.,  1., -1., -1.,  1.,  1., -1., -1., -1.,  1., -1.,  1., -1.,\n",
              "        1., -1.,  1.,  1., -1., -1., -1., -1., -1.,  1.,  1.,  1., -1.,\n",
              "       -1., -1.,  1., -1.,  1.,  1.,  1.,  1., -1., -1., -1.,  1.,  1.,\n",
              "       -1., -1.,  1.,  0., -1.,  1.,  1., -1.,  1.,  1.,  1., -1.,  1.,\n",
              "        1., -1., -1., -1., -1., -1., -1.,  1.,  1.,  1.,  1.,  1., -1.,\n",
              "        1., -1., -1., -1., -1.,  1., -1., -1.,  1., -1.,  1., -1., -1.,\n",
              "       -1., -1.,  1., -1.,  1., -1.,  1.,  1., -1., -1.,  1., -1.,  1.,\n",
              "       -1.,  1.,  1., -1., -1.,  1., -1., -1.,  1.,  1.,  1.,  1.,  1.,\n",
              "        1.,  1.,  1.,  0.,  1., -1.,  1., -1., -1.,  1., -1., -1., -1.,\n",
              "       -1., -1., -1.,  1.,  1., -1.,  0., -1., -1.,  1., -1., -1.,  1.,\n",
              "        1.,  1., -1.,  1., -1., -1.,  1., -1.,  1., -1., -1.,  1., -1.,\n",
              "       -1., -1., -1., -1.,  1., -1., -1., -1.,  1.,  1.,  1.,  1.,  1.,\n",
              "       -1., -1.,  0.,  1.,  1.,  1., -1., -1., -1.,  1., -1., -1., -1.,\n",
              "       -1.,  1., -1., -1.,  1.,  1., -1., -1., -1., -1., -1.,  1.,  1.,\n",
              "       -1., -1., -1.,  1., -1., -1.,  1., -1., -1., -1., -1., -1.,  1.,\n",
              "        1.,  1., -1., -1., -1., -1., -1.,  1.,  1.,  1.,  1., -1., -1.,\n",
              "        1.,  1., -1., -1.,  1., -1., -1., -1., -1.,  1.,  1.,  1., -1.,\n",
              "        1., -1.,  1.,  1., -1.,  1., -1.,  1., -1., -1.,  1.,  1., -1.,\n",
              "       -1., -1., -1., -1., -1., -1., -1., -1.,  1., -1.,  1.,  1., -1.,\n",
              "        1., -1.,  1.,  1.,  1., -1., -1., -1., -1.,  1., -1., -1., -1.,\n",
              "       -1., -1., -1., -1., -1., -1., -1.,  1., -1., -1., -1.,  1.,  1.,\n",
              "        1.,  1., -1.,  1., -1., -1.,  1.,  1., -1., -1., -1., -1., -1.,\n",
              "        1.,  1.,  1.,  1.,  1., -1., -1.,  1.,  1., -1.,  1.,  1.,  1.,\n",
              "       -1., -1., -1.,  1., -1., -1.,  1., -1., -1.,  1., -1.,  1., -1.,\n",
              "       -1.,  1., -1.,  1., -1.,  1., -1.,  1., -1.,  1.,  1., -1., -1.,\n",
              "       -1.,  1.,  1.])"
            ]
          },
          "metadata": {
            "tags": []
          },
          "execution_count": 109
        }
      ]
    },
    {
      "cell_type": "code",
      "metadata": {
        "id": "8gawOIiyYvbK",
        "colab_type": "code",
        "colab": {
          "base_uri": "https://localhost:8080/",
          "height": 34
        },
        "outputId": "671e919b-7ebc-4438-d2cd-c690d6195e03"
      },
      "source": [
        "metrics.accuracy_score(rotulos_teste, predict_teste)"
      ],
      "execution_count": 86,
      "outputs": [
        {
          "output_type": "execute_result",
          "data": {
            "text/plain": [
              "0.7931034482758621"
            ]
          },
          "metadata": {
            "tags": []
          },
          "execution_count": 86
        }
      ]
    },
    {
      "cell_type": "code",
      "metadata": {
        "id": "Wh9XBKngYvNw",
        "colab_type": "code",
        "colab": {}
      },
      "source": [
        "clf_rf = RandomForestClassifier()"
      ],
      "execution_count": null,
      "outputs": []
    },
    {
      "cell_type": "code",
      "metadata": {
        "id": "mTT8GC0MY9QD",
        "colab_type": "code",
        "colab": {
          "base_uri": "https://localhost:8080/",
          "height": 119
        },
        "outputId": "a01f92d5-8fb7-4cb4-b9f3-195345bbd686"
      },
      "source": [
        "arvore = tree.DecisionTreeClassifier(criterion= 'entropy')\n",
        "arvore"
      ],
      "execution_count": 90,
      "outputs": [
        {
          "output_type": "execute_result",
          "data": {
            "text/plain": [
              "DecisionTreeClassifier(ccp_alpha=0.0, class_weight=None, criterion='entropy',\n",
              "                       max_depth=None, max_features=None, max_leaf_nodes=None,\n",
              "                       min_impurity_decrease=0.0, min_impurity_split=None,\n",
              "                       min_samples_leaf=1, min_samples_split=2,\n",
              "                       min_weight_fraction_leaf=0.0, presort='deprecated',\n",
              "                       random_state=None, splitter='best')"
            ]
          },
          "metadata": {
            "tags": []
          },
          "execution_count": 90
        }
      ]
    },
    {
      "cell_type": "code",
      "metadata": {
        "id": "quLqMpP-ZcuQ",
        "colab_type": "code",
        "colab": {
          "base_uri": "https://localhost:8080/",
          "height": 119
        },
        "outputId": "0e6b8cd8-93dc-4235-90c4-57ba563ec6af"
      },
      "source": [
        "arvore.fit(dados_treino, rotulos_treino)"
      ],
      "execution_count": 91,
      "outputs": [
        {
          "output_type": "execute_result",
          "data": {
            "text/plain": [
              "DecisionTreeClassifier(ccp_alpha=0.0, class_weight=None, criterion='entropy',\n",
              "                       max_depth=None, max_features=None, max_leaf_nodes=None,\n",
              "                       min_impurity_decrease=0.0, min_impurity_split=None,\n",
              "                       min_samples_leaf=1, min_samples_split=2,\n",
              "                       min_weight_fraction_leaf=0.0, presort='deprecated',\n",
              "                       random_state=None, splitter='best')"
            ]
          },
          "metadata": {
            "tags": []
          },
          "execution_count": 91
        }
      ]
    },
    {
      "cell_type": "code",
      "metadata": {
        "id": "D39OzyaZZglm",
        "colab_type": "code",
        "colab": {}
      },
      "source": [
        "predictions_tree = arvore.predict(dados_treino)"
      ],
      "execution_count": 92,
      "outputs": []
    },
    {
      "cell_type": "code",
      "metadata": {
        "id": "FvV2Sub4ZlDk",
        "colab_type": "code",
        "colab": {
          "base_uri": "https://localhost:8080/",
          "height": 34
        },
        "outputId": "9e3b5681-e657-44e5-e7da-22974226f38f"
      },
      "source": [
        "acc_tree = metrics.accuracy_score(rotulos_treino, predictions_tree)\n",
        "acc_tree"
      ],
      "execution_count": 93,
      "outputs": [
        {
          "output_type": "execute_result",
          "data": {
            "text/plain": [
              "0.9640971488912354"
            ]
          },
          "metadata": {
            "tags": []
          },
          "execution_count": 93
        }
      ]
    },
    {
      "cell_type": "code",
      "metadata": {
        "id": "MWKEWr04ZoJU",
        "colab_type": "code",
        "colab": {
          "base_uri": "https://localhost:8080/",
          "height": 1000
        },
        "outputId": "c6f1b40a-0aae-4302-9210-dc70539c162e"
      },
      "source": [
        "predict_train_tree = arvore.predict(dados_treino)\n",
        "predict_train_tree"
      ],
      "execution_count": 94,
      "outputs": [
        {
          "output_type": "execute_result",
          "data": {
            "text/plain": [
              "array([-1.,  1.,  1.,  1.,  1., -1., -1., -1.,  1., -1.,  1.,  1., -1.,\n",
              "       -1.,  1.,  1., -1.,  1.,  0.,  1., -1.,  0.,  1.,  1., -1., -1.,\n",
              "        1., -1.,  1.,  1., -1., -1.,  1., -1., -1., -1.,  1., -1., -1.,\n",
              "       -1.,  1., -1., -1., -1.,  1.,  1., -1., -1., -1., -1., -1., -1.,\n",
              "        1.,  1., -1., -1.,  1., -1., -1.,  1.,  1.,  1., -1.,  1.,  1.,\n",
              "       -1.,  1.,  1.,  1., -1.,  0., -1., -1., -1., -1.,  1., -1.,  1.,\n",
              "       -1.,  1.,  1., -1., -1.,  1.,  1., -1., -1., -1., -1., -1., -1.,\n",
              "       -1.,  1., -1.,  1., -1.,  1., -1., -1.,  1., -1., -1.,  0.,  1.,\n",
              "       -1.,  0., -1.,  1., -1.,  0.,  1., -1.,  1., -1., -1.,  1., -1.,\n",
              "       -1., -1.,  1.,  1.,  1.,  1., -1.,  1., -1.,  1., -1.,  1.,  1.,\n",
              "       -1., -1.,  1.,  0., -1., -1., -1.,  1., -1., -1., -1.,  1., -1.,\n",
              "       -1., -1., -1., -1., -1., -1., -1., -1.,  1.,  1.,  0., -1., -1.,\n",
              "       -1.,  1., -1.,  1.,  1., -1.,  1., -1.,  1.,  0.,  1., -1.,  1.,\n",
              "        1.,  1.,  0.,  1.,  1., -1.,  1., -1., -1.,  1., -1., -1.,  1.,\n",
              "        1., -1., -1.,  1., -1.,  1.,  0.,  1., -1., -1., -1.,  1.,  1.,\n",
              "       -1.,  1.,  1.,  1.,  1., -1.,  1., -1., -1., -1., -1.,  0., -1.,\n",
              "        1.,  1.,  1., -1., -1.,  1., -1., -1., -1.,  1.,  1., -1.,  0.,\n",
              "        1., -1., -1.,  1.,  0.,  1.,  1., -1.,  0.,  1.,  1., -1.,  1.,\n",
              "        1., -1.,  1.,  1., -1., -1., -1., -1., -1.,  0.,  1.,  1.,  1.,\n",
              "       -1., -1., -1.,  1.,  1., -1., -1., -1., -1.,  1., -1.,  1., -1.,\n",
              "        1., -1.,  1., -1., -1.,  1.,  1., -1., -1., -1., -1.,  1., -1.,\n",
              "       -1., -1., -1., -1., -1., -1.,  1.,  1., -1., -1.,  1., -1.,  1.,\n",
              "        1.,  1., -1., -1., -1.,  1.,  0.,  1.,  1., -1., -1.,  1., -1.,\n",
              "       -1., -1., -1., -1., -1., -1., -1., -1., -1., -1.,  1.,  0.,  1.,\n",
              "        1., -1.,  1., -1., -1.,  1., -1.,  1.,  1.,  0., -1., -1., -1.,\n",
              "       -1.,  1., -1., -1.,  1., -1., -1.,  1.,  1., -1.,  1., -1., -1.,\n",
              "       -1., -1.,  0.,  1., -1.,  1., -1., -1., -1., -1.,  1., -1., -1.,\n",
              "       -1., -1.,  0., -1.,  1., -1., -1.,  1.,  1.,  1., -1., -1., -1.,\n",
              "        1., -1.,  1.,  1., -1.,  1.,  0., -1., -1., -1., -1.,  1., -1.,\n",
              "        1.,  0., -1., -1.,  1., -1.,  1., -1.,  1., -1.,  1.,  1., -1.,\n",
              "        0.,  1.,  1.,  1.,  0.,  1., -1.,  1.,  1.,  1., -1.,  1., -1.,\n",
              "        1.,  1., -1.,  1., -1.,  1.,  1., -1.,  1.,  1.,  0.,  1., -1.,\n",
              "        1., -1., -1., -1., -1.,  1.,  0., -1.,  1.,  1.,  1., -1., -1.,\n",
              "        1.,  1., -1.,  1.,  1.,  1., -1., -1.,  1., -1.,  1., -1., -1.,\n",
              "       -1., -1.,  1., -1., -1.,  1., -1.,  1.,  1.,  1., -1., -1., -1.,\n",
              "       -1.,  1.,  1., -1.,  1., -1., -1., -1.,  1.,  1.,  0., -1., -1.,\n",
              "       -1., -1., -1.,  1.,  1., -1.,  0.,  0.,  1., -1., -1.,  0., -1.,\n",
              "        1.,  1.,  1., -1.,  1., -1., -1.,  1., -1., -1., -1., -1.,  1.,\n",
              "       -1., -1., -1.,  1.,  0.,  1.,  1.,  1., -1., -1.,  0., -1., -1.,\n",
              "        1., -1.,  1.,  1., -1., -1.,  1.,  1.,  1.,  1., -1., -1., -1.,\n",
              "        1., -1., -1.,  1., -1.,  1.,  0.,  0.,  1., -1.,  1., -1., -1.,\n",
              "        0., -1., -1.,  1.,  0., -1., -1.,  1.,  1.,  1., -1., -1.,  1.,\n",
              "        1.,  0., -1., -1., -1., -1.,  0., -1.,  0.,  1.,  0., -1., -1.,\n",
              "       -1.,  1.,  1., -1.,  1.,  1.,  1., -1.,  1.,  1., -1., -1., -1.,\n",
              "       -1., -1.,  1.,  1., -1.,  0.,  1.,  1.,  1.,  0.,  1., -1.,  1.,\n",
              "        1., -1., -1., -1., -1.,  1., -1.,  1., -1., -1., -1., -1., -1.,\n",
              "       -1.,  1.,  1., -1., -1., -1., -1., -1.,  1.,  1., -1., -1., -1.,\n",
              "       -1., -1.,  1., -1., -1., -1., -1.,  0.,  1.,  1.,  1.,  1.,  1.,\n",
              "        1., -1., -1.,  0.,  1., -1., -1., -1., -1., -1., -1., -1., -1.,\n",
              "        1., -1., -1.,  1.,  1.,  1.,  1.,  1., -1.,  0., -1.,  1.,  1.,\n",
              "       -1.,  1., -1., -1., -1., -1., -1.,  1., -1., -1.,  0., -1., -1.,\n",
              "        1., -1., -1., -1., -1., -1., -1., -1.,  1., -1., -1., -1.,  1.,\n",
              "        0.,  1.,  1.,  1., -1.,  1.,  0.,  1.,  1., -1.,  1.,  1.,  1.,\n",
              "       -1.,  1.,  1., -1.,  0.,  1.,  0., -1.,  1., -1.,  1.,  0., -1.,\n",
              "        1.,  1., -1., -1.,  1., -1., -1.,  1., -1.,  0., -1.,  1., -1.,\n",
              "       -1.,  1., -1., -1., -1.,  0., -1.,  1.,  1.,  1., -1., -1.,  1.,\n",
              "        0.,  1.,  1.,  0.,  0.,  1.,  1., -1., -1.,  0.,  1.,  0.,  1.,\n",
              "        1., -1., -1., -1., -1., -1.,  1., -1.,  1., -1., -1., -1., -1.,\n",
              "       -1.,  1.,  0.,  0., -1., -1., -1., -1., -1.,  1., -1., -1.,  1.,\n",
              "       -1.,  0., -1.,  1.,  1.,  0., -1., -1., -1., -1.,  0., -1., -1.,\n",
              "       -1., -1., -1.,  1., -1.,  1., -1., -1.,  1., -1., -1.,  1.,  1.,\n",
              "       -1., -1., -1., -1., -1., -1., -1., -1.,  0., -1., -1., -1.,  1.,\n",
              "        1.,  1.,  0., -1.,  0., -1., -1.,  0., -1., -1.,  0., -1., -1.,\n",
              "       -1., -1.,  1.,  1., -1., -1.,  0.,  1.,  0., -1., -1.,  1., -1.,\n",
              "       -1.,  1., -1.,  0., -1., -1.,  1., -1.,  1., -1.,  1.,  1., -1.,\n",
              "       -1., -1.,  1.,  1.,  1., -1., -1.,  1.,  1., -1., -1., -1., -1.,\n",
              "       -1.,  1.,  1.,  1., -1.,  1.,  1., -1.,  1.,  1., -1., -1., -1.,\n",
              "       -1.,  1., -1., -1.,  1., -1., -1.,  1.,  1.,  0.,  1., -1., -1.,\n",
              "       -1., -1., -1., -1.,  1., -1.,  1.,  1., -1., -1.,  1.,  0.,  1.,\n",
              "        1., -1.,  0.,  1.,  1., -1., -1.,  1., -1., -1.,  1.,  1.,  1.,\n",
              "        1.,  1.,  1., -1., -1., -1., -1.,  1.,  0., -1., -1.,  1.,  1.,\n",
              "        1., -1., -1., -1.,  1., -1.,  1., -1., -1.,  1.,  0.,  1.,  1.,\n",
              "        1., -1., -1., -1., -1., -1., -1., -1.,  1., -1.,  0.])"
            ]
          },
          "metadata": {
            "tags": []
          },
          "execution_count": 94
        }
      ]
    },
    {
      "cell_type": "code",
      "metadata": {
        "id": "IvQEcnYWZuMx",
        "colab_type": "code",
        "colab": {
          "base_uri": "https://localhost:8080/",
          "height": 34
        },
        "outputId": "66e52eaa-de91-4015-cf1f-613273def868"
      },
      "source": [
        "predict_train_tree.shape"
      ],
      "execution_count": 95,
      "outputs": [
        {
          "output_type": "execute_result",
          "data": {
            "text/plain": [
              "(947,)"
            ]
          },
          "metadata": {
            "tags": []
          },
          "execution_count": 95
        }
      ]
    },
    {
      "cell_type": "code",
      "metadata": {
        "id": "TATzyH4DZz9l",
        "colab_type": "code",
        "colab": {
          "base_uri": "https://localhost:8080/",
          "height": 561
        },
        "outputId": "55133e7b-3e98-4d2d-8c65-b8ab9e6b6cbb"
      },
      "source": [
        "predict_test_tree = arvore.predict(dados_teste)\n",
        "predict_test_tree"
      ],
      "execution_count": 96,
      "outputs": [
        {
          "output_type": "execute_result",
          "data": {
            "text/plain": [
              "array([ 1.,  0., -1.,  0., -1.,  1., -1., -1., -1., -1.,  1., -1., -1.,\n",
              "        1.,  1.,  1., -1.,  1., -1.,  0.,  1., -1.,  1.,  1., -1., -1.,\n",
              "       -1.,  1., -1., -1.,  1., -1., -1.,  1.,  1., -1.,  1.,  0.,  0.,\n",
              "        1., -1.,  1., -1.,  1., -1.,  1., -1., -1.,  1., -1.,  1., -1.,\n",
              "       -1., -1., -1., -1.,  1.,  1., -1., -1.,  1., -1., -1.,  0., -1.,\n",
              "        1.,  1., -1.,  1., -1., -1., -1., -1., -1.,  0., -1.,  1.,  0.,\n",
              "        1.,  0., -1.,  1.,  1., -1., -1.,  0., -1.,  1.,  1.,  1., -1.,\n",
              "        1., -1.,  1.,  1., -1., -1., -1., -1., -1., -1.,  1., -1., -1.,\n",
              "       -1.,  0.,  1., -1.,  1.,  1.,  0.,  1.,  1., -1., -1., -1.,  1.,\n",
              "       -1., -1.,  1.,  0., -1.,  1.,  1., -1.,  0.,  1.,  1., -1., -1.,\n",
              "        1., -1., -1.,  1., -1.,  0., -1., -1.,  1.,  1.,  1., -1., -1.,\n",
              "       -1., -1., -1., -1., -1.,  1., -1., -1.,  1., -1.,  1., -1., -1.,\n",
              "        0., -1.,  1., -1.,  1., -1.,  1., -1., -1., -1.,  1., -1.,  1.,\n",
              "       -1.,  0.,  0., -1., -1.,  1., -1., -1.,  1.,  1.,  1.,  1.,  1.,\n",
              "        0.,  1.,  1.,  0.,  0., -1.,  1., -1.,  1., -1., -1., -1., -1.,\n",
              "        0., -1.,  1.,  0.,  0., -1.,  0., -1., -1.,  1., -1., -1.,  1.,\n",
              "        1.,  1., -1., -1.,  1., -1.,  1., -1., -1., -1., -1.,  1., -1.,\n",
              "       -1., -1., -1., -1.,  1., -1., -1., -1.,  1.,  1.,  1.,  1.,  1.,\n",
              "       -1., -1.,  0.,  1.,  1.,  1., -1., -1., -1.,  1., -1.,  0., -1.,\n",
              "       -1.,  1., -1., -1.,  1.,  0.,  1., -1., -1., -1., -1.,  1., -1.,\n",
              "       -1., -1., -1.,  1.,  0.,  1.,  1., -1., -1., -1., -1., -1.,  1.,\n",
              "       -1.,  1., -1., -1.,  0., -1., -1.,  1.,  1.,  1.,  1., -1., -1.,\n",
              "        1.,  1., -1., -1.,  1., -1., -1., -1., -1.,  1.,  1.,  1., -1.,\n",
              "        1.,  1., -1.,  1.,  0.,  1., -1.,  1., -1., -1.,  1.,  1., -1.,\n",
              "       -1., -1., -1.,  1., -1., -1.,  1., -1., -1., -1.,  1.,  1.,  0.,\n",
              "        1.,  1.,  1.,  1.,  1., -1., -1., -1., -1.,  1., -1., -1., -1.,\n",
              "       -1., -1., -1.,  0., -1., -1., -1., -1., -1., -1., -1.,  1.,  1.,\n",
              "        1.,  1., -1.,  1., -1., -1.,  1.,  1., -1., -1., -1., -1.,  0.,\n",
              "        1.,  1.,  1.,  1., -1., -1., -1., -1.,  1., -1.,  1.,  1.,  1.,\n",
              "       -1., -1., -1.,  1., -1.,  1.,  0., -1., -1.,  1., -1.,  1., -1.,\n",
              "       -1.,  1.,  0.,  1., -1., -1., -1., -1.,  0., -1.,  1., -1., -1.,\n",
              "       -1.,  1.,  1.])"
            ]
          },
          "metadata": {
            "tags": []
          },
          "execution_count": 96
        }
      ]
    },
    {
      "cell_type": "code",
      "metadata": {
        "id": "t7pPC2AZZ9ds",
        "colab_type": "code",
        "colab": {
          "base_uri": "https://localhost:8080/",
          "height": 34
        },
        "outputId": "5b03c697-3098-4d86-d36f-833a9d29db72"
      },
      "source": [
        "metrics.accuracy_score(rotulos_teste, predict_test_tree)\n"
      ],
      "execution_count": 97,
      "outputs": [
        {
          "output_type": "execute_result",
          "data": {
            "text/plain": [
              "0.8522167487684729"
            ]
          },
          "metadata": {
            "tags": []
          },
          "execution_count": 97
        }
      ]
    }
  ]
}